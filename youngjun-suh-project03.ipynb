{
 "cells": [
  {
   "cell_type": "markdown",
   "id": "be02a957-7133-4d02-818e-fedeb3cecb05",
   "metadata": {},
   "source": [
    "# Project 3 -- Youngjun Suh"
   ]
  },
  {
   "cell_type": "markdown",
   "id": "a1228853-dd19-4ab2-89e0-0394d7d72de3",
   "metadata": {},
   "source": [
    "**TA Help:** John Smith, Alice Jones\n",
    "\n",
    "- Help with figuring out how to write a function.\n",
    "    \n",
    "**Collaboration:** Friend1, Friend2\n",
    "    \n",
    "- Helped figuring out how to load the dataset.\n",
    "- Helped debug error with my plot."
   ]
  },
  {
   "cell_type": "markdown",
   "id": "38073301-dc6f-4c21-9afe-9e69a79f3ff6",
   "metadata": {},
   "source": [
    "Takeaways: ?command will show all the functionalities and parameters of this command and how to use them properly.\n",
    "Ex: ?head\n",
    "    shows all the related usages of head and decriptions."
   ]
  },
  {
   "cell_type": "code",
   "execution_count": 2,
   "id": "49445606-d363-41b4-b479-e319a9a84c01",
   "metadata": {},
   "outputs": [],
   "source": [
    "options(jupyter.rich_display = F)"
   ]
  },
  {
   "cell_type": "code",
   "execution_count": 3,
   "id": "f10fd97f-fd9b-407b-8ac7-c43e0c21fe15",
   "metadata": {},
   "outputs": [
    {
     "data": {
      "text/plain": [
       " [1] \"7_dwarfs_train.csv\"                \"alien_saucers.csv\"                \n",
       " [3] \"dinosaur.csv\"                      \"entities.csv\"                     \n",
       " [5] \"expedition_everest.csv\"            \"flight_of_passage.csv\"            \n",
       " [7] \"kilimanjaro_safaris.csv\"           \"metadata.csv\"                     \n",
       " [9] \"navi_river.csv\"                    \"pirates_of_caribbean.csv\"         \n",
       "[11] \"rock_n_rollercoaster.csv\"          \"slinky_dog.csv\"                   \n",
       "[13] \"soarin.csv\"                        \"spaceship_earth.csv\"              \n",
       "[15] \"splash_mountain.csv\"               \"total.parquet\"                    \n",
       "[17] \"touringplans_data_dictionary.xlsx\" \"toy_story_mania.csv\"              \n",
       "[19] \"update.py\"                        "
      ]
     },
     "metadata": {},
     "output_type": "display_data"
    }
   ],
   "source": [
    "list.files(\"/anvil/projects/tdm/data/disney\")"
   ]
  },
  {
   "cell_type": "code",
   "execution_count": 4,
   "id": "09908496-59a2-4848-9e33-795204448929",
   "metadata": {},
   "outputs": [],
   "source": [
    "myDF <- read.csv(\"/anvil/projects/tdm/data/disney/7_dwarfs_train.csv\", stringsAsFactors = TRUE)"
   ]
  },
  {
   "cell_type": "code",
   "execution_count": 5,
   "id": "655174d6-6dca-4df7-a534-f06c7a843654",
   "metadata": {},
   "outputs": [
    {
     "data": {
      "text/plain": [
       "[1] 11696214"
      ]
     },
     "metadata": {},
     "output_type": "display_data"
    }
   ],
   "source": [
    "file.info(\"/anvil/projects/tdm/data/disney/7_dwarfs_train.csv\")$size"
   ]
  },
  {
   "cell_type": "markdown",
   "id": "b456e57c-4a12-464b-999a-ef2df5af80c1",
   "metadata": {},
   "source": [
    "file.info command-data type\n",
    "------------------------------------------------\n",
    "size- double: File size in bytes.\n",
    "isdir- logical: Is the file a directory?\n",
    "mode- integer of class \"octmode\". The file permissions, printed in octal, for example 644.\n",
    "mtime, ctime, atime- integer of class \"POSIXct\": file modification, ‘last status change’ and last access times.\n",
    "uid- integer: the user ID of the file’s owner.\n",
    "gid- integer: the group ID of the file’s group.\n",
    "uname- character: uid interpreted as a user name. grname\n",
    "character: gid interpreted as a group name. Unknown user and group names will be NA."
   ]
  },
  {
   "cell_type": "markdown",
   "id": "6180e742-8e39-4698-98ff-5b00c8cf8ea0",
   "metadata": {},
   "source": [
    "## Question 1"
   ]
  },
  {
   "cell_type": "markdown",
   "id": "b81f73ae-f5a6-4422-b17e-1efd378fef04",
   "metadata": {},
   "source": [
    "look at how many rows, how many columns, the type of data, etc.\n",
    "Use the head command to look at the first 21 rows."
   ]
  },
  {
   "cell_type": "code",
   "execution_count": 6,
   "id": "f51e1e74-80b6-4262-a707-048fc7d55a96",
   "metadata": {},
   "outputs": [
    {
     "data": {
      "text/plain": [
       "[1] 321631      4"
      ]
     },
     "metadata": {},
     "output_type": "display_data"
    }
   ],
   "source": [
    "dim(myDF)"
   ]
  },
  {
   "cell_type": "code",
   "execution_count": 7,
   "id": "529bf5bd-05cb-4a2b-8d1e-c9df27129363",
   "metadata": {},
   "outputs": [
    {
     "name": "stdout",
     "output_type": "stream",
     "text": [
      "'data.frame':\t321631 obs. of  4 variables:\n",
      " $ date    : Factor w/ 2334 levels \"01/01/2015\",\"01/01/2016\",..: 1 1 1 1 1 1 1 1 1 1 ...\n",
      " $ datetime: Factor w/ 321586 levels \"2015-01-01 07:51:12\",..: 1 2 3 4 5 6 7 8 9 10 ...\n",
      " $ SACTMIN : int  NA NA 54 NA NA 55 NA NA NA NA ...\n",
      " $ SPOSTMIN: int  45 60 NA 60 60 NA 60 60 90 105 ...\n"
     ]
    }
   ],
   "source": [
    "str(myDF)"
   ]
  },
  {
   "cell_type": "code",
   "execution_count": 8,
   "id": "56620af9-0e32-40ef-8c84-2bbed6b94a14",
   "metadata": {},
   "outputs": [
    {
     "data": {
      "text/plain": [
       "[1] \"factor\""
      ]
     },
     "metadata": {},
     "output_type": "display_data"
    },
    {
     "data": {
      "text/plain": [
       "[1] \"factor\""
      ]
     },
     "metadata": {},
     "output_type": "display_data"
    },
    {
     "data": {
      "text/plain": [
       "[1] \"integer\""
      ]
     },
     "metadata": {},
     "output_type": "display_data"
    },
    {
     "data": {
      "text/plain": [
       "[1] \"integer\""
      ]
     },
     "metadata": {},
     "output_type": "display_data"
    }
   ],
   "source": [
    "class(myDF$date)\n",
    "class(myDF$datetime)\n",
    "class(myDF$SACTMIN)\n",
    "class(myDF$SPOSTMIN)"
   ]
  },
  {
   "cell_type": "code",
   "execution_count": 9,
   "id": "22b271bc-0ff6-4eea-8587-c95ce349eab3",
   "metadata": {},
   "outputs": [
    {
     "data": {
      "text/plain": [
       "   date       datetime            SACTMIN SPOSTMIN\n",
       "1  01/01/2015 2015-01-01 07:51:12 NA       45     \n",
       "2  01/01/2015 2015-01-01 08:02:13 NA       60     \n",
       "3  01/01/2015 2015-01-01 08:05:30 54       NA     \n",
       "4  01/01/2015 2015-01-01 08:09:12 NA       60     \n",
       "5  01/01/2015 2015-01-01 08:16:12 NA       60     \n",
       "6  01/01/2015 2015-01-01 08:22:16 55       NA     \n",
       "7  01/01/2015 2015-01-01 08:23:12 NA       60     \n",
       "8  01/01/2015 2015-01-01 08:29:12 NA       60     \n",
       "9  01/01/2015 2015-01-01 08:37:13 NA       90     \n",
       "10 01/01/2015 2015-01-01 08:44:11 NA      105     \n",
       "11 01/01/2015 2015-01-01 08:50:33 NA      105     \n",
       "12 01/01/2015 2015-01-01 08:51:12 NA      105     \n",
       "13 01/01/2015 2015-01-01 09:02:13 NA      105     \n",
       "14 01/01/2015 2015-01-01 09:09:16 NA      105     \n",
       "15 01/01/2015 2015-01-01 09:16:12 NA      120     \n",
       "16 01/01/2015 2015-01-01 09:23:12 NA      120     \n",
       "17 01/01/2015 2015-01-01 09:29:12 NA      120     \n",
       "18 01/01/2015 2015-01-01 09:34:32 NA      120     \n",
       "19 01/01/2015 2015-01-01 09:37:12 NA       80     \n",
       "20 01/01/2015 2015-01-01 09:44:11 NA       80     \n",
       "21 01/01/2015 2015-01-01 09:51:12 NA       80     "
      ]
     },
     "metadata": {},
     "output_type": "display_data"
    }
   ],
   "source": [
    "head(myDF, n=21)"
   ]
  },
  {
   "cell_type": "markdown",
   "id": "900a9f75-c60e-4916-b546-858527004be5",
   "metadata": {},
   "source": [
    "There are 321631 rows and 4 columns in this dataframe.\n",
    "4 columns consists of date, datetime, SACTMIN, SPOSTMIN.\n",
    "date has factor as its data type, and datetime has factor, and SACTMIN has integer, and SPOSTMIN has integer."
   ]
  },
  {
   "cell_type": "markdown",
   "id": "fc601975-35ed-4680-a4e1-0273ee3cc047",
   "metadata": {},
   "source": [
    "## Question 2"
   ]
  },
  {
   "cell_type": "markdown",
   "id": "e110a92e-f642-4119-9843-7f0a8b6a3850",
   "metadata": {},
   "source": [
    "If we are looking at the column \"SPOSTMIN\" what do you notice about the increments of time? I.e., is there anything special about the types of values that appear? How many different wait time options do you see in \"SPOSTMIN\"?\n",
    "\n",
    "How many NA values do you see in \"SPOSTMIN\"?\n",
    "\n",
    "Create a new data frame with the name newDF in which the \"SPOSTMIN\" column has all NA values removed. In other words, select the rows of myDF for which \"SPOSTMIN\" is not NA and call the resulting data.frame by the name newDF."
   ]
  },
  {
   "cell_type": "code",
   "execution_count": 16,
   "id": "dee5a17b-5979-49a3-b770-6bc231e4896a",
   "metadata": {},
   "outputs": [
    {
     "data": {
      "text/plain": [
       "\n",
       " -999     0     5    10    15    20    25    30    35    40    45    50    55 \n",
       "23062    32   897  1306   914  3638  2166 13939  4894 14941 15149 19555  6989 \n",
       "   60    65    70    75    80    85    90    95   100   105   110   115   120 \n",
       "29034 10345 23496 12101 22971  5301 23813  6853 10773  8164 11909  3000 13097 \n",
       "  125   130   135   140   145   150   155   160   165   170   175   180   185 \n",
       " 1954  5982  1723  4151   940  3793   394  1739   520  1031   272  1644   163 \n",
       "  190   195   200   205   210   215   220   225   230   235   240   250   260 \n",
       "  375   128   249   100   257    11    88    26    26    17    37    17    10 \n",
       "  270   280   300  <NA> \n",
       "    6     2     2  7635 "
      ]
     },
     "metadata": {},
     "output_type": "display_data"
    }
   ],
   "source": [
    "table(myDF$SPOSTMIN, useNA=\"always\")"
   ]
  },
  {
   "cell_type": "code",
   "execution_count": 14,
   "id": "80c7d280-472d-46cf-b239-aeb7f6d58e57",
   "metadata": {},
   "outputs": [
    {
     "data": {
      "text/plain": [
       "    Min.  1st Qu.   Median     Mean  3rd Qu.     Max.     NA's \n",
       "-999.000   45.000   70.000   -2.064   95.000  300.000     7635 "
      ]
     },
     "metadata": {},
     "output_type": "display_data"
    }
   ],
   "source": [
    "summary(myDF$SPOSTMIN)"
   ]
  },
  {
   "cell_type": "code",
   "execution_count": 22,
   "id": "7a0a9ab8-163b-4538-9edb-50db90fb520d",
   "metadata": {},
   "outputs": [
    {
     "data": {
      "text/plain": [
       "[1] -2.063539"
      ]
     },
     "metadata": {},
     "output_type": "display_data"
    }
   ],
   "source": [
    "mean(myDF$SPOSTMIN, na.rm=TRUE)"
   ]
  },
  {
   "cell_type": "code",
   "execution_count": 26,
   "id": "166bd2be-3e1a-4bce-9976-580151ff585a",
   "metadata": {},
   "outputs": [
    {
     "data": {
      "text/plain": [
       " [1] FALSE FALSE  TRUE FALSE FALSE  TRUE FALSE FALSE FALSE FALSE FALSE FALSE\n",
       "[13] FALSE FALSE FALSE FALSE FALSE FALSE FALSE FALSE FALSE"
      ]
     },
     "metadata": {},
     "output_type": "display_data"
    }
   ],
   "source": [
    "head(is.na(myDF$SPOSTMIN), n=21)"
   ]
  },
  {
   "cell_type": "markdown",
   "id": "a0b6d3b2-58b7-440e-a5bb-2c58c2ad8be2",
   "metadata": {},
   "source": [
    "is.na makes the data's elements into true or false based on whether its element is na or not."
   ]
  },
  {
   "cell_type": "code",
   "execution_count": 10,
   "id": "6323528f-d525-481a-a7b1-8d088376c6bb",
   "metadata": {},
   "outputs": [],
   "source": [
    "newDF <- subset(myDF, !is.na(myDF$SPOSTMIN))"
   ]
  },
  {
   "cell_type": "code",
   "execution_count": 24,
   "id": "928696c7-3186-463e-b772-07eb584842e6",
   "metadata": {},
   "outputs": [
    {
     "data": {
      "text/plain": [
       "   date       datetime            SACTMIN SPOSTMIN\n",
       "1  01/01/2015 2015-01-01 07:51:12 NA       45     \n",
       "2  01/01/2015 2015-01-01 08:02:13 NA       60     \n",
       "4  01/01/2015 2015-01-01 08:09:12 NA       60     \n",
       "5  01/01/2015 2015-01-01 08:16:12 NA       60     \n",
       "7  01/01/2015 2015-01-01 08:23:12 NA       60     \n",
       "8  01/01/2015 2015-01-01 08:29:12 NA       60     \n",
       "9  01/01/2015 2015-01-01 08:37:13 NA       90     \n",
       "10 01/01/2015 2015-01-01 08:44:11 NA      105     \n",
       "11 01/01/2015 2015-01-01 08:50:33 NA      105     \n",
       "12 01/01/2015 2015-01-01 08:51:12 NA      105     \n",
       "13 01/01/2015 2015-01-01 09:02:13 NA      105     \n",
       "14 01/01/2015 2015-01-01 09:09:16 NA      105     \n",
       "15 01/01/2015 2015-01-01 09:16:12 NA      120     \n",
       "16 01/01/2015 2015-01-01 09:23:12 NA      120     \n",
       "17 01/01/2015 2015-01-01 09:29:12 NA      120     \n",
       "18 01/01/2015 2015-01-01 09:34:32 NA      120     \n",
       "19 01/01/2015 2015-01-01 09:37:12 NA       80     \n",
       "20 01/01/2015 2015-01-01 09:44:11 NA       80     \n",
       "21 01/01/2015 2015-01-01 09:51:12 NA       80     \n",
       "22 01/01/2015 2015-01-01 10:02:14 NA       90     \n",
       "23 01/01/2015 2015-01-01 10:09:12 NA       90     "
      ]
     },
     "metadata": {},
     "output_type": "display_data"
    }
   ],
   "source": [
    "head(newDF, n=21)"
   ]
  },
  {
   "cell_type": "markdown",
   "id": "14dc22d4-ddc3-41cc-a91a-cb0025bc0c80",
   "metadata": {},
   "source": [
    "The time increments only by a factor of 5.\n",
    "There are 7635 NA values in the column of SPOSTMIN."
   ]
  },
  {
   "cell_type": "markdown",
   "id": "8e586edd-ff26-4ce2-8f6b-2424b26f2929",
   "metadata": {},
   "source": [
    "## Question 3"
   ]
  },
  {
   "cell_type": "markdown",
   "id": "47c6229f-35f7-400c-8366-c442baa5cf47",
   "metadata": {},
   "source": [
    "On Christmas day, what was the average wait time? On July 26th, what was the average wait time?\n",
    "\n",
    "Is there a difference between the wait times in the summer and the holidays?\n",
    "\n",
    "On which date do the most entries occur in the data set?"
   ]
  },
  {
   "cell_type": "code",
   "execution_count": 30,
   "id": "bbe0f40d-9655-4653-9ca8-886bdb61cb91",
   "metadata": {},
   "outputs": [
    {
     "data": {
      "text/plain": [
       "[1] 158"
      ]
     },
     "metadata": {},
     "output_type": "display_data"
    }
   ],
   "source": [
    "length(myDF$date[myDF$date==\"12/28/2021\"])"
   ]
  },
  {
   "cell_type": "code",
   "execution_count": 24,
   "id": "64303e73-5706-4dff-ac34-53ada38579dc",
   "metadata": {},
   "outputs": [
    {
     "data": {
      "text/plain": [
       "[1] 48"
      ]
     },
     "metadata": {},
     "output_type": "display_data"
    }
   ],
   "source": [
    "mean(myDF$SACTMIN[myDF$date==\"12/25/2021\"], na.rm=TRUE)"
   ]
  },
  {
   "cell_type": "code",
   "execution_count": 23,
   "id": "a8d5cab7-0fdc-4a7c-9558-ddfc89a81526",
   "metadata": {},
   "outputs": [
    {
     "data": {
      "text/plain": [
       "[1] 39.6"
      ]
     },
     "metadata": {},
     "output_type": "display_data"
    }
   ],
   "source": [
    "mean(myDF$SACTMIN[myDF$date==\"07/26/2021\"], na.rm=TRUE)"
   ]
  },
  {
   "cell_type": "code",
   "execution_count": 22,
   "id": "fa51c9ae-4b48-49f4-a682-99c768c10372",
   "metadata": {},
   "outputs": [
    {
     "data": {
      "text/plain": [
       "[1] 22.60784"
      ]
     },
     "metadata": {},
     "output_type": "display_data"
    }
   ],
   "source": [
    "mean(myDF$SPOSTMIN[myDF$date==\"12/28/2021\"], na.rm=TRUE)"
   ]
  },
  {
   "cell_type": "markdown",
   "id": "a813531a-d8b6-4eac-a42f-1d76747cf0cd",
   "metadata": {},
   "source": [
    "Let's first pick a day for the summer time: August 15th. Probably the hottest day during summer time.\n",
    "Now, pick a holiday: Jan 1st."
   ]
  },
  {
   "cell_type": "code",
   "execution_count": 25,
   "id": "38a7ae15-a3c8-4563-baf9-f54455f21451",
   "metadata": {},
   "outputs": [
    {
     "data": {
      "text/plain": [
       "[1] 81.14407"
      ]
     },
     "metadata": {},
     "output_type": "display_data"
    }
   ],
   "source": [
    "mean(myDF$SPOSTMIN[myDF$date==\"01/01/2021\"], na.rm=TRUE)"
   ]
  },
  {
   "cell_type": "code",
   "execution_count": 26,
   "id": "2104fb4a-e09a-4e0c-b4f8-d759f56295c0",
   "metadata": {},
   "outputs": [
    {
     "data": {
      "text/plain": [
       "[1] 46.27559"
      ]
     },
     "metadata": {},
     "output_type": "display_data"
    }
   ],
   "source": [
    "mean(myDF$SPOSTMIN[myDF$date==\"08/15/2021\"], na.rm=TRUE)"
   ]
  },
  {
   "cell_type": "markdown",
   "id": "6e306f4a-2ea4-446f-bac0-e86521c0007f",
   "metadata": {},
   "source": [
    "There is 81.14407-46.27559=34.86848 difference between these two days' waiting time."
   ]
  },
  {
   "cell_type": "code",
   "execution_count": 29,
   "id": "2170f1f5-2a0c-4ce8-aa8e-f8b1c6eb0a14",
   "metadata": {},
   "outputs": [
    {
     "data": {
      "text/plain": [
       "\n",
       "11/08/2021 10/01/2021 11/09/2021 10/29/2021 10/15/2021 10/10/2021 \n",
       "       363        359        344        333        332        330 "
      ]
     },
     "metadata": {},
     "output_type": "display_data"
    }
   ],
   "source": [
    "head(sort(table(myDF$date), decreasing=TRUE))"
   ]
  },
  {
   "cell_type": "markdown",
   "id": "58b1de66-5202-4d7b-b913-300a66e6923b",
   "metadata": {},
   "source": [
    "There are about 363 entries for 11/08/2021"
   ]
  },
  {
   "cell_type": "markdown",
   "id": "da22f29c-d245-4d2b-9fc1-ca14cb6087d9",
   "metadata": {},
   "source": [
    "## Question 4"
   ]
  },
  {
   "cell_type": "markdown",
   "id": "0d552245-b4d6-474a-9cc9-fa7b8e674d55",
   "metadata": {},
   "source": [
    "Find the lengths of the column \"SPOSTMIN\" in the myDF and newDF.\n",
    "\n",
    "Create a new vector called myhours by adding together \"SPOSTMIN\" columns from myDF and newDF with each divided by 60. What is the length of that new vector myhours?\n",
    "\n",
    "What happened in row 313997? why?"
   ]
  },
  {
   "cell_type": "code",
   "execution_count": 30,
   "id": "e73128dd-f156-49ab-9188-a095d83a1bf8",
   "metadata": {},
   "outputs": [
    {
     "data": {
      "text/plain": [
       "[1] 321631"
      ]
     },
     "metadata": {},
     "output_type": "display_data"
    }
   ],
   "source": [
    "length(myDF$SPOSTMIN)"
   ]
  },
  {
   "cell_type": "code",
   "execution_count": 31,
   "id": "8cffc767-d1c8-4d64-b7dc-f0d2ee8a80d1",
   "metadata": {},
   "outputs": [
    {
     "data": {
      "text/plain": [
       "[1] 313996"
      ]
     },
     "metadata": {},
     "output_type": "display_data"
    }
   ],
   "source": [
    "length(newDF$SPOSTMIN)"
   ]
  },
  {
   "cell_type": "markdown",
   "id": "765ca25e-d4c8-4e94-8ad7-4fdcdea9f47f",
   "metadata": {},
   "source": [
    "length of the vector from newDF is shorter than that of myDF"
   ]
  },
  {
   "cell_type": "code",
   "execution_count": 32,
   "id": "ecd75a7f-5bfd-4d1c-92b0-654ec3709e0f",
   "metadata": {},
   "outputs": [
    {
     "name": "stderr",
     "output_type": "stream",
     "text": [
      "Warning message in newDF$SPOSTMIN + myDF$SPOSTMIN:\n",
      "\"longer object length is not a multiple of shorter object length\"\n"
     ]
    }
   ],
   "source": [
    "myhours <- (newDF$SPOSTMIN + myDF$SPOSTMIN)/60"
   ]
  },
  {
   "cell_type": "code",
   "execution_count": 41,
   "id": "48fdbeeb-4a0e-4a25-81a4-c354ae64aaaa",
   "metadata": {},
   "outputs": [
    {
     "data": {
      "text/plain": [
       "[1] 0.25"
      ]
     },
     "metadata": {},
     "output_type": "display_data"
    }
   ],
   "source": [
    "myDF$SPOSTMIN[313997]/60"
   ]
  },
  {
   "cell_type": "code",
   "execution_count": 45,
   "id": "58281577-d12d-4523-accc-814f416aff40",
   "metadata": {},
   "outputs": [
    {
     "data": {
      "text/plain": [
       "[1] NA"
      ]
     },
     "metadata": {},
     "output_type": "display_data"
    }
   ],
   "source": [
    "newDF$SPOSTMIN[313997]/60 \n",
    "# no more data and result in returning the first data (like how overflow happens in JAVA) and This is called recycling in R\n",
    "# This is probably the reason why the warning message also said length of one object is not the multiple of that of the other.\n",
    "# This means that if it were to be the multiple of the other,\n",
    "# then R will calculate these objects as if the longer object is a collection of multiple objects with length of shorter one."
   ]
  },
  {
   "cell_type": "code",
   "execution_count": 43,
   "id": "e9409428-2507-40a2-88a1-c595f7360c3b",
   "metadata": {},
   "outputs": [
    {
     "data": {
      "text/plain": [
       "[1] 1"
      ]
     },
     "metadata": {},
     "output_type": "display_data"
    }
   ],
   "source": [
    "myhours[313997]"
   ]
  },
  {
   "cell_type": "markdown",
   "id": "88c9cdac-3e92-498f-83fa-e089bfc44ac8",
   "metadata": {},
   "source": [
    "## Question 5"
   ]
  },
  {
   "cell_type": "markdown",
   "id": "9fbf00fb-2418-460f-ae94-2a32b0c28952",
   "metadata": {},
   "source": [
    "Consider the average wait times. What day of the week in myDF has the longest average wait time?\n",
    "\n",
    "Make a plot and a dotchart that illustrate the data for the average wait times. Which one conveys the information better and why?\n",
    "\n",
    "We created a new column in myDF that shows the weekdays. Do the same thing for part (a) and (b) again, but this time using the months instead of the days of the week."
   ]
  },
  {
   "cell_type": "code",
   "execution_count": 46,
   "id": "d370d7c9-06db-42b9-b75f-240481a5c491",
   "metadata": {},
   "outputs": [
    {
     "name": "stderr",
     "output_type": "stream",
     "text": [
      "Warning message in system(\"timedatectl\", intern = TRUE):\n",
      "\"running command 'timedatectl' had status 1\"\n",
      "\n",
      "Attaching package: 'lubridate'\n",
      "\n",
      "\n",
      "The following objects are masked from 'package:base':\n",
      "\n",
      "    date, intersect, setdiff, union\n",
      "\n",
      "\n"
     ]
    }
   ],
   "source": [
    "library(lubridate)"
   ]
  },
  {
   "cell_type": "code",
   "execution_count": 47,
   "id": "4812117c-b543-4f2c-9e9f-dc08021e79be",
   "metadata": {},
   "outputs": [
    {
     "name": "stderr",
     "output_type": "stream",
     "text": [
      "Warning message:\n",
      "\"tz(): Don't know how to compute timezone for object of class factor; returning \"UTC\". This warning will become an error in the next major version of lubridate.\"\n"
     ]
    }
   ],
   "source": [
    "myDF$weekday <- wday(myDF$datetime, label=TRUE)"
   ]
  },
  {
   "cell_type": "code",
   "execution_count": 48,
   "id": "f20cfe20-0849-4923-9471-9d88935fbb85",
   "metadata": {},
   "outputs": [
    {
     "data": {
      "text/plain": [
       "  date       datetime            SACTMIN SPOSTMIN weekday\n",
       "1 01/01/2015 2015-01-01 07:51:12 NA      45       Thu    \n",
       "2 01/01/2015 2015-01-01 08:02:13 NA      60       Thu    \n",
       "3 01/01/2015 2015-01-01 08:05:30 54      NA       Thu    \n",
       "4 01/01/2015 2015-01-01 08:09:12 NA      60       Thu    \n",
       "5 01/01/2015 2015-01-01 08:16:12 NA      60       Thu    \n",
       "6 01/01/2015 2015-01-01 08:22:16 55      NA       Thu    "
      ]
     },
     "metadata": {},
     "output_type": "display_data"
    }
   ],
   "source": [
    "head(myDF)"
   ]
  },
  {
   "cell_type": "code",
   "execution_count": 51,
   "id": "1f0f6571-8fbd-495d-b55d-c23e709a4ee8",
   "metadata": {},
   "outputs": [
    {
     "data": {
      "text/plain": [
       "[1] 37.92959"
      ]
     },
     "metadata": {},
     "output_type": "display_data"
    }
   ],
   "source": [
    "mean(myDF$SACTMIN[myDF$weekday == \"Mon\" & myDF$SACTMIN != -92918], na.rm=TRUE)"
   ]
  },
  {
   "cell_type": "code",
   "execution_count": 50,
   "id": "7ce9e36a-1f7b-4d14-8b1e-4e067cca0e6f",
   "metadata": {},
   "outputs": [
    {
     "data": {
      "text/plain": [
       "[1] -92918      0      0      0      0      0"
      ]
     },
     "metadata": {},
     "output_type": "display_data"
    }
   ],
   "source": [
    "head(sort(myDF$SACTMIN))"
   ]
  },
  {
   "cell_type": "code",
   "execution_count": 52,
   "id": "ddfd106f-54a5-4fe8-9362-7dd783831768",
   "metadata": {},
   "outputs": [
    {
     "data": {
      "text/plain": [
       "[1] 34.55502"
      ]
     },
     "metadata": {},
     "output_type": "display_data"
    }
   ],
   "source": [
    "mean(myDF$SACTMIN[myDF$weekday == \"Tue\" & myDF$SACTMIN != -92918], na.rm=TRUE)"
   ]
  },
  {
   "cell_type": "code",
   "execution_count": 53,
   "id": "70d42166-96a0-4336-bb0c-598756d95697",
   "metadata": {},
   "outputs": [
    {
     "data": {
      "text/plain": [
       "[1] 36.44053"
      ]
     },
     "metadata": {},
     "output_type": "display_data"
    }
   ],
   "source": [
    "mean(myDF$SACTMIN[myDF$weekday == \"Wed\" & myDF$SACTMIN != -92918], na.rm=TRUE)"
   ]
  },
  {
   "cell_type": "code",
   "execution_count": 54,
   "id": "caa27d36-d719-4329-a45b-cf3a919208b1",
   "metadata": {},
   "outputs": [
    {
     "data": {
      "text/plain": [
       "[1] 36.17215"
      ]
     },
     "metadata": {},
     "output_type": "display_data"
    }
   ],
   "source": [
    "mean(myDF$SACTMIN[myDF$weekday == \"Thu\" & myDF$SACTMIN != -92918], na.rm=TRUE)"
   ]
  },
  {
   "cell_type": "code",
   "execution_count": 55,
   "id": "975765b4-d5ad-44c8-b025-c1fb8b37a2aa",
   "metadata": {},
   "outputs": [
    {
     "data": {
      "text/plain": [
       "[1] 36.12491"
      ]
     },
     "metadata": {},
     "output_type": "display_data"
    }
   ],
   "source": [
    "mean(myDF$SACTMIN[myDF$weekday == \"Fri\" & myDF$SACTMIN != -92918], na.rm=TRUE)"
   ]
  },
  {
   "cell_type": "code",
   "execution_count": 56,
   "id": "e965b7f1-b8c8-4c34-9e34-702adacbdbd1",
   "metadata": {},
   "outputs": [
    {
     "data": {
      "text/plain": [
       "[1] 37.73216"
      ]
     },
     "metadata": {},
     "output_type": "display_data"
    }
   ],
   "source": [
    "mean(myDF$SACTMIN[myDF$weekday == \"Sat\" & myDF$SACTMIN != -92918], na.rm=TRUE)"
   ]
  },
  {
   "cell_type": "code",
   "execution_count": 57,
   "id": "7ae5361d-b53f-4042-bd6a-6dc3eb98f0e4",
   "metadata": {},
   "outputs": [
    {
     "data": {
      "text/plain": [
       "[1] 34.90372"
      ]
     },
     "metadata": {},
     "output_type": "display_data"
    }
   ],
   "source": [
    "mean(myDF$SACTMIN[myDF$weekday == \"Sun\" & myDF$SACTMIN != -92918], na.rm=TRUE)"
   ]
  },
  {
   "cell_type": "markdown",
   "id": "f2311b0c-26cb-43bf-9f2d-35183e19a310",
   "metadata": {},
   "source": [
    "Monday has the longest average wait time just by 0.19743 sec difference from that on Sat."
   ]
  },
  {
   "cell_type": "markdown",
   "id": "4a73e09e-b1e6-4477-974e-f0351a2f97b5",
   "metadata": {},
   "source": [
    "tapply function, which has 3 parameters. (with options at the end as to how to process the data given)\n",
    "data you want to work on, how to break the data into group, what to do on each group."
   ]
  },
  {
   "cell_type": "code",
   "execution_count": 58,
   "id": "1df6110c-e3d8-469e-8f9d-1fb9d0c2e855",
   "metadata": {},
   "outputs": [
    {
     "data": {
      "text/plain": [
       "      Sun       Mon       Tue       Wed       Thu       Fri       Sat \n",
       " 34.90372 -72.86412  34.55502  36.44053  36.17215  36.12491  37.73216 "
      ]
     },
     "metadata": {},
     "output_type": "display_data"
    }
   ],
   "source": [
    "tapply(myDF$SACTMIN, myDF$weekday, mean, na.rm=TRUE)"
   ]
  },
  {
   "cell_type": "markdown",
   "id": "464eafc4-a17d-4acf-9aa9-1b48369ed7e7",
   "metadata": {},
   "source": [
    "We can also apply conditions on our data."
   ]
  },
  {
   "cell_type": "code",
   "execution_count": 60,
   "id": "b5ef8732-8af2-4410-b1a5-8552641a4a62",
   "metadata": {},
   "outputs": [
    {
     "data": {
      "text/plain": [
       "     Sun      Mon      Tue      Wed      Thu      Fri      Sat \n",
       "34.90372 37.92959 34.55502 36.44053 36.17215 36.12491 37.73216 "
      ]
     },
     "metadata": {},
     "output_type": "display_data"
    }
   ],
   "source": [
    "tapply(myDF$SACTMIN[myDF$SACTMIN != -92918], myDF$weekday[myDF$SACTMIN != -92918], mean, na.rm=TRUE)"
   ]
  },
  {
   "cell_type": "code",
   "execution_count": 69,
   "id": "971d522b-cd67-465c-a726-6a09c0b77b27",
   "metadata": {},
   "outputs": [],
   "source": [
    "myresult <- tapply(myDF$SACTMIN[myDF$SACTMIN != -92918],\n",
    "                   myDF$weekday[myDF$SACTMIN != -92918],\n",
    "                   mean,\n",
    "                   na.rm=TRUE)"
   ]
  },
  {
   "cell_type": "code",
   "execution_count": 62,
   "id": "54ac6729-a2ad-49f3-96f6-7ee9c56b4b54",
   "metadata": {},
   "outputs": [
    {
     "data": {
      "image/png": "[encoded data removed]",
      "text/plain": [
       "plot without title"
      ]
     },
     "metadata": {
      "image/png": {
       "height": 420,
       "width": 420
      }
     },
     "output_type": "display_data"
    }
   ],
   "source": [
    "plot(myresult)"
   ]
  },
  {
   "cell_type": "code",
   "execution_count": 63,
   "id": "06b56361-63e9-4200-8123-71fa61f08e5b",
   "metadata": {},
   "outputs": [
    {
     "name": "stderr",
     "output_type": "stream",
     "text": [
      "Warning message in dotchart(myresult):\n",
      "\"'x' is neither a vector nor a matrix: using as.numeric(x)\"\n"
     ]
    },
    {
     "data": {
      "image/png": "[encoded data removed]",
      "text/plain": [
       "plot without title"
      ]
     },
     "metadata": {
      "image/png": {
       "height": 420,
       "width": 420
      }
     },
     "output_type": "display_data"
    }
   ],
   "source": [
    "dotchart(myresult)"
   ]
  },
  {
   "cell_type": "markdown",
   "id": "39a39bea-beaf-49ea-9dfb-07547c85eaeb",
   "metadata": {},
   "source": [
    "Dotchart is better because it's showing the label of each day instead of numbers."
   ]
  },
  {
   "cell_type": "code",
   "execution_count": 64,
   "id": "1ae2e512-5024-4e73-9a2c-64ca14839112",
   "metadata": {},
   "outputs": [
    {
     "name": "stderr",
     "output_type": "stream",
     "text": [
      "Warning message:\n",
      "\"tz(): Don't know how to compute timezone for object of class factor; returning \"UTC\". This warning will become an error in the next major version of lubridate.\"\n"
     ]
    }
   ],
   "source": [
    "myDF$month <- month(myDF$datetime, label=TRUE)"
   ]
  },
  {
   "cell_type": "code",
   "execution_count": 65,
   "id": "884b945a-7930-4b63-a692-7ce1b4745aa6",
   "metadata": {},
   "outputs": [
    {
     "data": {
      "text/plain": [
       "  date       datetime            SACTMIN SPOSTMIN weekday month\n",
       "1 01/01/2015 2015-01-01 07:51:12 NA      45       Thu     Jan  \n",
       "2 01/01/2015 2015-01-01 08:02:13 NA      60       Thu     Jan  \n",
       "3 01/01/2015 2015-01-01 08:05:30 54      NA       Thu     Jan  \n",
       "4 01/01/2015 2015-01-01 08:09:12 NA      60       Thu     Jan  \n",
       "5 01/01/2015 2015-01-01 08:16:12 NA      60       Thu     Jan  \n",
       "6 01/01/2015 2015-01-01 08:22:16 55      NA       Thu     Jan  "
      ]
     },
     "metadata": {},
     "output_type": "display_data"
    }
   ],
   "source": [
    "head(myDF)"
   ]
  },
  {
   "cell_type": "code",
   "execution_count": 67,
   "id": "c59ed42e-b916-40e6-8546-7b09834c9fae",
   "metadata": {},
   "outputs": [
    {
     "data": {
      "text/plain": [
       "     Jan      Feb      Mar      Apr      May      Jun      Jul      Aug \n",
       "41.64757 43.62733 38.50000 34.66873 35.36293 39.98100 36.83942 32.08961 \n",
       "     Sep      Oct      Nov      Dec \n",
       "26.98632 33.45165 37.98672 37.74623 "
      ]
     },
     "metadata": {},
     "output_type": "display_data"
    }
   ],
   "source": [
    "tapply(myDF$SACTMIN[myDF$SACTMIN != -92918],\n",
    "                   myDF$month[myDF$SACTMIN != -92918],\n",
    "                   mean,\n",
    "                   na.rm=TRUE)"
   ]
  },
  {
   "cell_type": "code",
   "execution_count": 68,
   "id": "e09c4a32-fbbd-4cb8-8f10-d33f646e157b",
   "metadata": {},
   "outputs": [],
   "source": [
    "myresult02 <- tapply(myDF$SACTMIN[myDF$SACTMIN != -92918],\n",
    "                   myDF$month[myDF$SACTMIN != -92918],\n",
    "                   mean,\n",
    "                   na.rm=TRUE)"
   ]
  },
  {
   "cell_type": "code",
   "execution_count": 70,
   "id": "fe8c80a2-cefa-48d4-affe-6d13bec71b53",
   "metadata": {},
   "outputs": [
    {
     "data": {
      "image/png": "[encoded data removed]",
      "text/plain": [
       "plot without title"
      ]
     },
     "metadata": {
      "image/png": {
       "height": 420,
       "width": 420
      }
     },
     "output_type": "display_data"
    }
   ],
   "source": [
    "plot(myresult02)"
   ]
  },
  {
   "cell_type": "code",
   "execution_count": 71,
   "id": "5ee636bf-3fbc-47c2-8579-bc3ca1ea4a73",
   "metadata": {},
   "outputs": [
    {
     "name": "stderr",
     "output_type": "stream",
     "text": [
      "Warning message in dotchart(myresult02):\n",
      "\"'x' is neither a vector nor a matrix: using as.numeric(x)\"\n"
     ]
    },
    {
     "data": {
      "image/png": "[encoded data removed]",
      "text/plain": [
       "plot without title"
      ]
     },
     "metadata": {
      "image/png": {
       "height": 420,
       "width": 420
      }
     },
     "output_type": "display_data"
    }
   ],
   "source": [
    "dotchart(myresult02)"
   ]
  },
  {
   "cell_type": "markdown",
   "id": "b9fd513d-a053-432b-8c10-39b616e9c7d3",
   "metadata": {},
   "source": [
    "Dotchart is better because it's showing the label of each month instead of numbers."
   ]
  },
  {
   "cell_type": "markdown",
   "id": "f76442d6-d02e-4f26-b9d6-c3183e1d6929",
   "metadata": {},
   "source": [
    "## Pledge\n",
    "\n",
    "By submitting this work I hereby pledge that this is my own, personal work. I've acknowledged in the designated place at the top of this file all sources that I used to complete said work, including but not limited to: online resources, books, and electronic communications. I've noted all collaboration with fellow students and/or TA's. I did not copy or plagiarize another's work.\n",
    "\n",
    "> As a Boilermaker pursuing academic excellence, I pledge to be honest and true in all that I do. Accountable together – We are Purdue."
   ]
  }
 ],
 "metadata": {
  "kernelspec": {
   "display_name": "f2022-s2023-r",
   "language": "R",
   "name": "f2022-s2023-r"
  },
  "language_info": {
   "codemirror_mode": "r",
   "file_extension": ".r",
   "mimetype": "text/x-r-source",
   "name": "R",
   "pygments_lexer": "r",
   "version": "4.1.3"
  }
 },
 "nbformat": 4,
 "nbformat_minor": 5
}
