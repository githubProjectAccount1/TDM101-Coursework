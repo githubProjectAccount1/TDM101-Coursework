{
 "cells": [
  {
   "cell_type": "markdown",
   "id": "be02a957-7133-4d02-818e-fedeb3cecb05",
   "metadata": {},
   "source": [
    "# Project 2 -- Youngjun Suh"
   ]
  },
  {
   "cell_type": "markdown",
   "id": "a1228853-dd19-4ab2-89e0-0394d7d72de3",
   "metadata": {},
   "source": [
    "**TA Help:** Dr.Ward\n",
    "\n",
    "- Help with figuring out how to do each questions vis his videos.\n",
    "    \n",
    "**Collaboration:** Friend1, Friend2\n",
    "    \n",
    "- Helped figuring out how to load the dataset.\n",
    "- Helped debug error with my plot."
   ]
  },
  {
   "cell_type": "markdown",
   "id": "6180e742-8e39-4698-98ff-5b00c8cf8ea0",
   "metadata": {},
   "source": [
    "## Question 1"
   ]
  },
  {
   "cell_type": "code",
   "execution_count": 2,
   "id": "49445606-d363-41b4-b479-e319a9a84c01",
   "metadata": {},
   "outputs": [],
   "source": [
    "%%R\n",
    "MyDF <- read.csv(\"/anvil/projects/tdm/data/flights/subset/1995.csv\", stringsAsFactors = TRUE)"
   ]
  },
  {
   "cell_type": "code",
   "execution_count": 3,
   "id": "8100c2ea-d4b7-446c-bba2-360d64b4582e",
   "metadata": {},
   "outputs": [
    {
     "name": "stdout",
     "output_type": "stream",
     "text": [
      "[1] 5327435      29\n"
     ]
    }
   ],
   "source": [
    "%%R\n",
    "dim(MyDF)"
   ]
  },
  {
   "cell_type": "markdown",
   "id": "ec94b45d-0fd2-474b-a8a3-14d22e40d1bb",
   "metadata": {},
   "source": [
    "Display # of Rows and columns"
   ]
  },
  {
   "cell_type": "code",
   "execution_count": 4,
   "id": "9d71935b-1942-4b42-9c88-6d14d7c49643",
   "metadata": {},
   "outputs": [
    {
     "name": "stdout",
     "output_type": "stream",
     "text": [
      "  Year Month DayofMonth DayOfWeek DepTime CRSDepTime ArrTime CRSArrTime\n",
      "1 1995     1          6         5     657        645     952        937\n",
      "2 1995     1          7         6     648        645     938        937\n",
      "3 1995     1          8         7     649        645     932        937\n",
      "4 1995     1          9         1     645        645     928        937\n",
      "5 1995     1         10         2     645        645     931        937\n",
      "6 1995     1         11         3     646        645     929        937\n",
      "  UniqueCarrier FlightNum TailNum ActualElapsedTime CRSElapsedTime AirTime\n",
      "1            UA       482  N7298U               115            112      83\n",
      "2            UA       482  N7449U               110            112      88\n",
      "3            UA       482  N7453U               103            112      83\n",
      "4            UA       482  N7288U               103            112      84\n",
      "5            UA       482  N7275U               106            112      82\n",
      "6            UA       482  N7281U               103            112      85\n",
      "  ArrDelay DepDelay Origin Dest Distance TaxiIn TaxiOut Cancelled\n",
      "1       15       12    ORD  PHL      678      7      25         0\n",
      "2        1        3    ORD  PHL      678      5      17         0\n",
      "3       -5        4    ORD  PHL      678      3      17         0\n",
      "4       -9        0    ORD  PHL      678      3      16         0\n",
      "5       -6        0    ORD  PHL      678      6      18         0\n",
      "6       -8        1    ORD  PHL      678      5      13         0\n",
      "  CancellationCode Diverted CarrierDelay WeatherDelay NASDelay SecurityDelay\n",
      "1               NA        0           NA           NA       NA            NA\n",
      "2               NA        0           NA           NA       NA            NA\n",
      "3               NA        0           NA           NA       NA            NA\n",
      "4               NA        0           NA           NA       NA            NA\n",
      "5               NA        0           NA           NA       NA            NA\n",
      "6               NA        0           NA           NA       NA            NA\n",
      "  LateAircraftDelay\n",
      "1                NA\n",
      "2                NA\n",
      "3                NA\n",
      "4                NA\n",
      "5                NA\n",
      "6                NA\n"
     ]
    }
   ],
   "source": [
    "%%R\n",
    "head(MyDF)"
   ]
  },
  {
   "cell_type": "code",
   "execution_count": 26,
   "id": "b47f506e-e9b7-4bf9-8147-be1b78d19eff",
   "metadata": {},
   "outputs": [
    {
     "name": "stdout",
     "output_type": "stream",
     "text": [
      "        Year Month DayofMonth DayOfWeek DepTime CRSDepTime ArrTime CRSArrTime\n",
      "5327430 1995    12         11         1    2220       2215    2337       2332\n",
      "5327431 1995    12         12         2    2217       2215    2332       2332\n",
      "5327432 1995    12         13         3    2216       2215    2355       2332\n",
      "5327433 1995    12         14         4    2215       2215    2341       2332\n",
      "5327434 1995    12         15         5    2236       2215    2348       2332\n",
      "5327435 1995    12         17         7    2215       2215    2328       2332\n",
      "        UniqueCarrier FlightNum TailNum ActualElapsedTime CRSElapsedTime\n",
      "5327430            TW       427   N959U               137            137\n",
      "5327431            TW       427  N9409F               135            137\n",
      "5327432            TW       427  N912TW               159            137\n",
      "5327433            TW       427  N902TW               146            137\n",
      "5327434            TW       427   N954U               132            137\n",
      "5327435            TW       427  N920TW               133            137\n",
      "        AirTime ArrDelay DepDelay Origin Dest Distance TaxiIn TaxiOut Cancelled\n",
      "5327430     122        5        5    STL  DEN      770      6       9         0\n",
      "5327431     118        0        2    STL  DEN      770      5      12         0\n",
      "5327432     129       23        1    STL  DEN      770      6      24         0\n",
      "5327433     125        9        0    STL  DEN      770      5      16         0\n",
      "5327434     114       16       21    STL  DEN      770      5      13         0\n",
      "5327435     111       -4        0    STL  DEN      770      6      16         0\n",
      "        CancellationCode Diverted CarrierDelay WeatherDelay NASDelay\n",
      "5327430               NA        0           NA           NA       NA\n",
      "5327431               NA        0           NA           NA       NA\n",
      "5327432               NA        0           NA           NA       NA\n",
      "5327433               NA        0           NA           NA       NA\n",
      "5327434               NA        0           NA           NA       NA\n",
      "5327435               NA        0           NA           NA       NA\n",
      "        SecurityDelay LateAircraftDelay\n",
      "5327430            NA                NA\n",
      "5327431            NA                NA\n",
      "5327432            NA                NA\n",
      "5327433            NA                NA\n",
      "5327434            NA                NA\n",
      "5327435            NA                NA\n"
     ]
    }
   ],
   "source": [
    "%%R\n",
    "tail(MyDF)"
   ]
  },
  {
   "cell_type": "markdown",
   "id": "b456e57c-4a12-464b-999a-ef2df5af80c1",
   "metadata": {
    "tags": []
   },
   "source": [
    "first six rows of each columns.\n",
    "The screen is not big enough to fit everything in one line.\n",
    "That's why it looks like it is ordered from top to bottom."
   ]
  },
  {
   "cell_type": "code",
   "execution_count": 27,
   "id": "3fdf837a-b6b5-40fe-95c2-838d81ec6ce8",
   "metadata": {},
   "outputs": [
    {
     "name": "stdout",
     "output_type": "stream",
     "text": [
      "      Year          Month          DayofMonth      DayOfWeek    \n",
      " Min.   :1995   Min.   : 1.000   Min.   : 1.00   Min.   :1.000  \n",
      " 1st Qu.:1995   1st Qu.: 3.000   1st Qu.: 8.00   1st Qu.:2.000  \n",
      " Median :1995   Median : 6.000   Median :16.00   Median :4.000  \n",
      " Mean   :1995   Mean   : 6.473   Mean   :15.71   Mean   :3.954  \n",
      " 3rd Qu.:1995   3rd Qu.: 9.000   3rd Qu.:23.00   3rd Qu.:6.000  \n",
      " Max.   :1995   Max.   :12.000   Max.   :31.00   Max.   :7.000  \n",
      "                                                                \n",
      "    DepTime        CRSDepTime      ArrTime         CRSArrTime  \n",
      " Min.   :   1    Min.   :   0   Min.   :   1     Min.   :   0  \n",
      " 1st Qu.: 940    1st Qu.: 920   1st Qu.:1125     1st Qu.:1110  \n",
      " Median :1337    Median :1324   Median :1528     Median :1517  \n",
      " Mean   :1353    Mean   :1316   Mean   :1503     Mean   :1471  \n",
      " 3rd Qu.:1735    3rd Qu.:1720   3rd Qu.:1918     3rd Qu.:1909  \n",
      " Max.   :2400    Max.   :2359   Max.   :2400     Max.   :2400  \n",
      " NA's   :91905                  NA's   :102397                 \n",
      " UniqueCarrier       FlightNum         TailNum        ActualElapsedTime\n",
      " DL     : 884019   Min.   :   1.0   UNKNOW :  65072   Min.   :-406.0   \n",
      " US     : 778835   1st Qu.: 420.0   N67    :   3485   1st Qu.:  68.0   \n",
      " UA     : 724807   Median : 809.0   N89    :   3479   Median :  99.0   \n",
      " WN     : 693101   Mean   : 944.1   N83    :   3476   Mean   : 116.5   \n",
      " AA     : 688471   3rd Qu.:1470.0   N71    :   3474   3rd Qu.: 148.0   \n",
      " NW     : 521693   Max.   :9899.0   N103   :   3463   Max.   : 707.0   \n",
      " (Other):1036509                    (Other):5244986   NA's   :102397   \n",
      " CRSElapsedTime     AirTime           ArrDelay          DepDelay      \n",
      " Min.   :  0.0   Min.   :   1.00   Min.   :-972.00   Min.   :-150.00  \n",
      " 1st Qu.: 70.0   1st Qu.:  51.00   1st Qu.:  -6.00   1st Qu.:  -1.00  \n",
      " Median :100.0   Median :  79.00   Median :   1.00   Median :   0.00  \n",
      " Mean   :117.5   Mean   :  97.28   Mean   :   7.02   Mean   :   8.28  \n",
      " 3rd Qu.:149.0   3rd Qu.: 126.00   3rd Qu.:  11.00   3rd Qu.:   7.00  \n",
      " Max.   :912.0   Max.   :1204.00   Max.   :1348.00   Max.   :1439.00  \n",
      " NA's   :3249    NA's   :50349     NA's   :102397    NA's   :91905    \n",
      "     Origin             Dest            Distance          TaxiIn       \n",
      " ORD    : 293422   ORD    : 293472   Min.   :  11.0   Min.   :  0.000  \n",
      " DFW    : 268127   DFW    : 268159   1st Qu.: 316.0   1st Qu.:  3.000  \n",
      " ATL    : 230470   ATL    : 230485   Median : 545.0   Median :  5.000  \n",
      " LAX    : 179909   LAX    : 179950   Mean   : 695.5   Mean   :  5.442  \n",
      " STL    : 174847   STL    : 174846   3rd Qu.: 934.0   3rd Qu.:  6.000  \n",
      " PHX    : 157155   PHX    : 157158   Max.   :4502.0   Max.   :371.000  \n",
      " (Other):4023505   (Other):4023365   NA's   :5987                      \n",
      "    TaxiOut          Cancelled       CancellationCode    Diverted       \n",
      " Min.   :   0.00   Min.   :0.00000   Mode:logical     Min.   :0.000000  \n",
      " 1st Qu.:   9.00   1st Qu.:0.00000   NA's:5327435     1st Qu.:0.000000  \n",
      " Median :  12.00   Median :0.00000                    Median :0.000000  \n",
      " Mean   :  13.66   Mean   :0.01725                    Mean   :0.001969  \n",
      " 3rd Qu.:  16.00   3rd Qu.:0.00000                    3rd Qu.:0.000000  \n",
      " Max.   :1074.00   Max.   :1.00000                    Max.   :1.000000  \n",
      "                                                                        \n",
      " CarrierDelay   WeatherDelay   NASDelay       SecurityDelay  LateAircraftDelay\n",
      " Mode:logical   Mode:logical   Mode:logical   Mode:logical   Mode:logical     \n",
      " NA's:5327435   NA's:5327435   NA's:5327435   NA's:5327435   NA's:5327435     \n",
      "                                                                              \n",
      "                                                                              \n",
      "                                                                              \n",
      "                                                                              \n",
      "                                                                              \n"
     ]
    }
   ],
   "source": [
    "%%R\n",
    "summary(MyDF)"
   ]
  },
  {
   "cell_type": "code",
   "execution_count": 7,
   "id": "80d396ec-fd9f-4948-a8ce-d32ff241b929",
   "metadata": {},
   "outputs": [
    {
     "name": "stdout",
     "output_type": "stream",
     "text": [
      "   Min. 1st Qu.  Median    Mean 3rd Qu.    Max.    NA's \n",
      "-972.00   -6.00    1.00    7.02   11.00 1348.00  102397 \n"
     ]
    }
   ],
   "source": [
    "%%R\n",
    "summary(MyDF$ArrDelay)"
   ]
  },
  {
   "cell_type": "code",
   "execution_count": 6,
   "id": "132f57a7-7d2f-4e0b-9dbd-ad4b5b49731d",
   "metadata": {},
   "outputs": [
    {
     "name": "stdout",
     "output_type": "stream",
     "text": [
      "[1] \"data.frame\"\n"
     ]
    }
   ],
   "source": [
    "%%R\n",
    "class(MyDF)"
   ]
  },
  {
   "cell_type": "markdown",
   "id": "5a19d683-4cc4-4405-8f00-07f0104f43a0",
   "metadata": {},
   "source": [
    "it displays the class of the data structure which is data frame"
   ]
  },
  {
   "cell_type": "code",
   "execution_count": 12,
   "id": "97c709f3-a375-495c-8724-d47e0253195b",
   "metadata": {},
   "outputs": [
    {
     "name": "stdout",
     "output_type": "stream",
     "text": [
      "[1] \"integer\"\n"
     ]
    }
   ],
   "source": [
    "%%R\n",
    "class(MyDF$ArrDelay)"
   ]
  },
  {
   "cell_type": "code",
   "execution_count": 7,
   "id": "950b6eb8-7597-4a20-985a-92b3e103b6ef",
   "metadata": {},
   "outputs": [
    {
     "name": "stdout",
     "output_type": "stream",
     "text": [
      "'data.frame':\t5327435 obs. of  29 variables:\n",
      " $ Year             : int  1995 1995 1995 1995 1995 1995 1995 1995 1995 1995 ...\n",
      " $ Month            : int  1 1 1 1 1 1 1 1 1 1 ...\n",
      " $ DayofMonth       : int  6 7 8 9 10 11 12 13 14 15 ...\n",
      " $ DayOfWeek        : int  5 6 7 1 2 3 4 5 6 7 ...\n",
      " $ DepTime          : int  657 648 649 645 645 646 NA 644 644 643 ...\n",
      " $ CRSDepTime       : int  645 645 645 645 645 645 645 645 645 645 ...\n",
      " $ ArrTime          : int  952 938 932 928 931 929 NA 953 938 940 ...\n",
      " $ CRSArrTime       : int  937 937 937 937 937 937 937 937 937 937 ...\n",
      " $ UniqueCarrier    : Factor w/ 10 levels \"AA\",\"AS\",\"CO\",..: 8 8 8 8 8 8 8 8 8 8 ...\n",
      " $ FlightNum        : int  482 482 482 482 482 482 482 482 482 482 ...\n",
      " $ TailNum          : Factor w/ 3508 levels \"112\",\"EI-BOM\",..: 2526 2561 2566 2511 2489 2498 3508 2467 2504 2484 ...\n",
      " $ ActualElapsedTime: int  115 110 103 103 106 103 NA 129 114 117 ...\n",
      " $ CRSElapsedTime   : int  112 112 112 112 112 112 112 112 112 112 ...\n",
      " $ AirTime          : int  83 88 83 84 82 85 45 110 94 99 ...\n",
      " $ ArrDelay         : int  15 1 -5 -9 -6 -8 NA 16 1 3 ...\n",
      " $ DepDelay         : int  12 3 4 0 0 1 NA -1 -1 -2 ...\n",
      " $ Origin           : Factor w/ 218 levels \"ABE\",\"ABQ\",\"ACK\",..: 157 157 157 157 157 157 157 157 157 157 ...\n",
      " $ Dest             : Factor w/ 218 levels \"ABE\",\"ABQ\",\"ACK\",..: 165 165 165 165 165 165 165 165 165 165 ...\n",
      " $ Distance         : int  678 678 678 678 678 678 678 678 678 678 ...\n",
      " $ TaxiIn           : int  7 5 3 3 6 5 6 5 5 3 ...\n",
      " $ TaxiOut          : int  25 17 17 16 18 13 10 14 15 15 ...\n",
      " $ Cancelled        : int  0 0 0 0 0 0 1 0 0 0 ...\n",
      " $ CancellationCode : logi  NA NA NA NA NA NA ...\n",
      " $ Diverted         : int  0 0 0 0 0 0 0 0 0 0 ...\n",
      " $ CarrierDelay     : logi  NA NA NA NA NA NA ...\n",
      " $ WeatherDelay     : logi  NA NA NA NA NA NA ...\n",
      " $ NASDelay         : logi  NA NA NA NA NA NA ...\n",
      " $ SecurityDelay    : logi  NA NA NA NA NA NA ...\n",
      " $ LateAircraftDelay: logi  NA NA NA NA NA NA ...\n"
     ]
    }
   ],
   "source": [
    "%%R\n",
    "str(MyDF)"
   ]
  },
  {
   "cell_type": "markdown",
   "id": "a8106c61-dad1-4549-8de4-b903e46d519d",
   "metadata": {},
   "source": [
    "str displays internal structure of data"
   ]
  },
  {
   "cell_type": "markdown",
   "id": "3cff58d1-a83d-47c3-b339-ce835b71283b",
   "metadata": {},
   "source": [
    "How many columns does this dataframe have?\n",
    "-> column 29\n",
    "\n",
    "How many rows does this dataframe have?\n",
    "-> row 5327435\n",
    "\n",
    "What type/s of data are in this dataframe (example: numerical values, and/or text strings, etc.)\n",
    "-> int, factor, logical\n"
   ]
  },
  {
   "cell_type": "code",
   "execution_count": 8,
   "id": "1f72ae19-aaf9-4d44-8fd4-9f0cd7e9d940",
   "metadata": {},
   "outputs": [
    {
     "name": "stdout",
     "output_type": "stream",
     "text": [
      "[1] ORD ORD ORD ORD ORD ORD\n",
      "218 Levels: ABE ABQ ACK ADQ AGS AKN ALB AMA ANC ANI ATL AUS AVL AVP AZO ... YAK\n"
     ]
    }
   ],
   "source": [
    "%%R\n",
    "head(MyDF$Origin)"
   ]
  },
  {
   "cell_type": "code",
   "execution_count": 24,
   "id": "7c2805bb-6f5d-4751-ad33-b8cb2b31344d",
   "metadata": {},
   "outputs": [
    {
     "name": "stdout",
     "output_type": "stream",
     "text": [
      "[1] STL STL STL STL STL STL\n",
      "218 Levels: ABE ABQ ACK ADQ AGS AKN ALB AMA ANC ANI ATL AUS AVL AVP AZO ... YAK\n"
     ]
    }
   ],
   "source": [
    "%%R\n",
    "tail(MyDF$Origin)"
   ]
  },
  {
   "cell_type": "code",
   "execution_count": 14,
   "id": "52f604c9-f2e2-4b8c-a4d4-01cd33d48aa1",
   "metadata": {},
   "outputs": [
    {
     "name": "stdout",
     "output_type": "stream",
     "text": [
      "  [1] ORD ORD ORD ORD ORD ORD ORD ORD ORD ORD ORD ORD ORD ORD ORD ORD ORD ORD\n",
      " [19] ORD ORD ORD ORD ORD ORD ORD ORD ORD ORD ORD ORD ORD ORD ORD ORD ORD ORD\n",
      " [37] ORD ORD ORD ORD ORD ORD ORD ORD ORD ORD ORD ORD ORD ORD ORD ORD ORD ORD\n",
      " [55] ORD ORD ORD ORD ORD ORD ORD ORD ORD ORD ORD ORD ORD ORD ORD ORD ORD ORD\n",
      " [73] ORD ORD ORD ORD ORD ORD ORD ORD ORD ORD ORD ORD ORD ORD ORD ORD ORD ORD\n",
      " [91] ORD ORD ORD ORD ORD ORD ORD ORD ORD ORD ORD ORD ORD ORD ORD ORD ORD ORD\n",
      "[109] ORD ORD ORD ORD ORD ORD ORD ORD ORD ORD ORD ORD ORD ORD ORD ORD ORD ORD\n",
      "[127] ORD ORD ORD ORD ORD ORD ORD ORD ORD ORD ORD ORD ORD ORD ORD ORD ORD ORD\n",
      "[145] ORD ORD ORD ORD ORD ORD ORD ORD ORD ORD ORD ORD ORD ORD ORD ORD ORD ORD\n",
      "[163] ORD ORD ORD ORD ORD ORD ORD ORD ORD ORD ORD ORD ORD ORD ORD ORD ORD ORD\n",
      "[181] ORD ORD ORD ORD ORD ORD ORD ORD ORD ORD ORD ORD ORD ORD ORD ORD ORD ORD\n",
      "[199] ORD ORD ORD ORD ORD ORD ORD ORD ORD ORD ORD ORD ORD ORD ORD ORD ORD ORD\n",
      "[217] ORD ORD ORD ORD ORD ORD ORD ORD ORD ORD ORD ORD ORD ORD ORD ORD ORD ORD\n",
      "[235] ORD ORD ORD ORF ORF ORF ORF ORF ORF ORF ORF ORF ORF ORF ORF ORF\n",
      "218 Levels: ABE ABQ ACK ADQ AGS AKN ALB AMA ANC ANI ATL AUS AVL AVP AZO ... YAK\n"
     ]
    }
   ],
   "source": [
    "%%R\n",
    "head(MyDF$Origin, n = 250)"
   ]
  },
  {
   "cell_type": "code",
   "execution_count": 25,
   "id": "2c862836-486f-4b35-bf45-bda199afa705",
   "metadata": {},
   "outputs": [
    {
     "name": "stdout",
     "output_type": "stream",
     "text": [
      "  [1] SMF SMF SMF SMF SMF SMF SMF SMF SMF SMF SMF SMF SMF SMF SMF SMF SMF SMF\n",
      " [19] SMF SMF SMF SMF SMF SMF SMF SMF SMF SMF SMF SNA SNA SNA SNA SNA SNA SNA\n",
      " [37] SNA SNA SNA SNA SNA SNA SNA SNA SNA SNA SNA SNA SNA SNA SNA SNA SNA SNA\n",
      " [55] SNA SNA SNA SNA SNA SNA SNA SNA SNA SNA SNA SNA SNA SNA SNA SNA SNA SNA\n",
      " [73] SNA SNA SNA SNA SNA SNA SNA SNA SNA SNA SNA SNA SNA SNA SNA SNA SNA SNA\n",
      " [91] SNA SNA SNA SNA SNA SNA SNA SNA SNA SNA SNA SNA SNA SNA SNA SNA SNA SNA\n",
      "[109] SNA SNA SNA SNA SNA SNA SNA SNA SNA SNA SNA SNA SNA SNA SNA SNA SNA SNA\n",
      "[127] SNA SNA SNA SNA SNA SNA SNA SNA SNA SNA SNA SNA SNA SNA SNA SNA SNA SNA\n",
      "[145] SNA SNA SNA SNA SNA SNA SNA SNA SNA SNA SNA SNA SNA SNA SNA SNA SNA SNA\n",
      "[163] SNA SNA SNA SNA SNA SNA SNA SNA SNA SNA SNA SNA STL STL STL STL STL STL\n",
      "[181] STL STL STL STL STL STL STL STL STL STL STL STL STL STL STL STL STL STL\n",
      "[199] STL STL STL STL STL STL STL STL STL STL STL STL STL STL STL STL STL STL\n",
      "[217] STL STL STL STL STL STL STL STL STL STL STL STL STL STL STL STL STL STL\n",
      "[235] STL STL STL STL STL STL STL STL STL STL STL STL STL STL STL STL\n",
      "218 Levels: ABE ABQ ACK ADQ AGS AKN ALB AMA ANC ANI ATL AUS AVL AVP AZO ... YAK\n"
     ]
    }
   ],
   "source": [
    "%%R\n",
    "tail(MyDF$Origin, n = 250)"
   ]
  },
  {
   "cell_type": "markdown",
   "id": "524f3dd8-aeec-4ede-9847-313a3e230309",
   "metadata": {},
   "source": [
    "parameter n means first 250 instances of the specified row\n",
    "last line of each head() displays what are the possible values in this row"
   ]
  },
  {
   "cell_type": "code",
   "execution_count": 12,
   "id": "47c2b6ec-e019-4526-a22a-66ed3768fecc",
   "metadata": {},
   "outputs": [
    {
     "name": "stdout",
     "output_type": "stream",
     "text": [
      "\n",
      "   ABE    ABQ    ACK    ADQ    AGS    AKN    ALB    AMA    ANC    ANI    ATL \n",
      "  7198  36871     40    504   2387    475  11997   4294  19040    133 230470 \n",
      "   AUS    AVL    AVP    AZO    BDL    BET    BFL    BGM    BGR    BHM    BIL \n",
      " 36474   2877   2605   2490  25771    981    455   1422   1589  18118   3701 \n",
      "   BIS    BNA    BOI    BOS    BQN    BRO    BRW    BTR    BTV    BUF    BUR \n",
      "  1417  43382  10174  92852    734    687   1024   4741   3362  19932  31472 \n",
      "   BWI    BZN    CAE    CAK    CDV    CHA    CHS    CID    CLE    CLT    CMH \n",
      " 66154   2205   5714   1574    726   3387   9228   5318  66888 131417  38271 \n",
      "   COS    CRP    CRW    CSG    CVG    DAB    DAL    DAY    DCA    DEN    DFW \n",
      " 12077   4225   2031    971  76629   4364  46570  14524  86266 130327 268127 \n",
      "   DLG    DLH    DRO    DSM    DTW    DUT    EGE    ELM    ELP    ERI    EUG \n",
      "   367   1813    102   9177 147610    379    690   1392  28728   1454   2173 \n",
      "   EVV    EWR    FAI    FAR    FAT    FAY    FCA    FLL    FNT    FSD    FWA \n",
      "   709 109592   4843   2339   2507   2188   1018  33641    248   4343   3354 \n",
      "   GEG    GFK    GNV    GRB    GRR    GSO    GSP    GST    GTF    GUC    HDN \n",
      " 12230   1414   1473   2843   9171  32676   8835     98   2428    243    556 \n",
      "   HLN    HNL    HOU    HPN    HRL    HSV    HTS    HVN    IAD    IAH    ICT \n",
      "  1094  12537  57492   6228   5752   6957    615   1081  33053 121029   7051 \n",
      "   IDA    ILM    IND    ISP    ITH    JAC    JAN    JAX    JFK    JNU    KOA \n",
      "  1298   2204  37092   3111   1056   1424   4945  18184  46187   4130    455 \n",
      "   KSM    KTN    LAN    LAS    LAX    LBB    LEX    LFT    LGA    LGB    LIT \n",
      "   133   2589   2365 112181 179909   6338   5070      2  99225   1401  16652 \n",
      "   LNK    LSE    LWB    MAF    MBS    MCI    MCO    MDT    MDW    MEM    MFE \n",
      "  3488   1392      4   7512   3861  56727  67900   8648  47985  53388   4057 \n",
      "   MFR    MGM    MHT    MIA    MKE    MLB    MLI    MLU    MOB    MOT    MRY \n",
      "  1342   2498   4629  70581  17172   3171   1641   2209   5378   1091   1205 \n",
      "   MSN    MSO    MSP    MSY    MTJ    MYR    OAJ    OAK    OGG    OKC    OMA \n",
      "  4640   1822 136436  49179     45   2720    369  65541   2609  22077  18215 \n",
      "   OME    ONT    ORD    ORF    OTZ    PBI    PDX    PFN    PHF    PHL    PHX \n",
      "  1013  40062 293422  18198   1022  22558  48049   1320   1016  91577 157155 \n",
      "   PIA    PIT    PNS    PSC    PSG    PSP    PVD    PWM    RAP    RDU    RIC \n",
      "    76 126190   6621   1454    725   3132  12530   5451   1077  27642  15990 \n",
      "   RNO    ROA    ROC    RST    RSW    SAN    SAT    SAV    SBA    SBN    SCC \n",
      " 20727   3312  16130   3514  14990  65731  38060   5763   1480   3560    632 \n",
      "   SDF    SEA    SFO    SGF    SHV    SIT    SJC    SJU    SLC    SMF    SNA \n",
      " 24094  92016 129137   1575   4552   1311  39283  21458  84056  36051  36159 \n",
      "   SPN    SRQ    STL    STT    STX    SUX    SWF    SYR    TLH    TOL    TPA \n",
      "   105   6863 174847   2874   1059    710   4402  12592   4668   2461  45782 \n",
      "   TRI    TUL    TUS    TVC    TWF    TYS    VPS    WRG    YAK \n",
      "  3056  20795  18549   1055     23   9509   1094    726    726 \n"
     ]
    }
   ],
   "source": [
    "%%R\n",
    "table(MyDF$Origin)"
   ]
  },
  {
   "cell_type": "markdown",
   "id": "69112e76-96b1-4f65-804b-94074538f772",
   "metadata": {},
   "source": [
    "With factor, table displays all levels in alphabetical order.\n",
    "with how many instance of them."
   ]
  },
  {
   "cell_type": "code",
   "execution_count": 22,
   "id": "f982262a-b375-49c8-9f71-f84b204a6b13",
   "metadata": {},
   "outputs": [
    {
     "name": "stdout",
     "output_type": "stream",
     "text": [
      "\n",
      "   LFT    LWB    TWF    ACK    MTJ    PIA    GST    DRO    SPN    ANI    KSM \n",
      "     2      4     23     40     45     76     98    102    105    133    133 \n",
      "   GUC    FNT    DLG    OAJ    DUT    BFL    KOA    AKN    ADQ    HDN    HTS \n",
      "   243    248    367    369    379    455    455    475    504    556    615 \n",
      "   SCC    BRO    EGE    EVV    SUX    PSG    CDV    WRG    YAK    BQN    CSG \n",
      "   632    687    690    709    710    725    726    726    726    734    971 \n",
      "   BET    OME    PHF    FCA    OTZ    BRW    TVC    ITH    STX    RAP    HVN \n",
      "   981   1013   1016   1018   1022   1024   1055   1056   1059   1077   1081 \n",
      "   MOT    HLN    VPS    MRY    IDA    SIT    PFN    MFR    ELM    LSE    LGB \n",
      "  1091   1094   1094   1205   1298   1311   1320   1342   1392   1392   1401 \n",
      "   GFK    BIS    BGM    JAC    ERI    PSC    GNV    SBA    CAK    SGF    BGR \n",
      "  1414   1417   1422   1424   1454   1454   1473   1480   1574   1575   1589 \n",
      "   MLI    DLH    MSO    CRW    EUG    FAY    ILM    BZN    MLU    FAR    LAN \n",
      "  1641   1813   1822   2031   2173   2188   2204   2205   2209   2339   2365 \n",
      "   AGS    GTF    TOL    AZO    MGM    FAT    KTN    AVP    OGG    MYR    GRB \n",
      "  2387   2428   2461   2490   2498   2507   2589   2605   2609   2720   2843 \n",
      "   STT    AVL    TRI    ISP    PSP    MLB    ROA    FWA    BTV    CHA    LNK \n",
      "  2874   2877   3056   3111   3132   3171   3312   3354   3362   3387   3488 \n",
      "   RST    SBN    BIL    MBS    MFE    JNU    CRP    AMA    FSD    DAB    SWF \n",
      "  3514   3560   3701   3861   4057   4130   4225   4294   4343   4364   4402 \n",
      "   SHV    MHT    MSN    TLH    BTR    FAI    JAN    LEX    CID    MOB    PWM \n",
      "  4552   4629   4640   4668   4741   4843   4945   5070   5318   5378   5451 \n",
      "   CAE    HRL    SAV    HPN    LBB    PNS    SRQ    HSV    ICT    ABE    MAF \n",
      "  5714   5752   5763   6228   6338   6621   6863   6957   7051   7198   7512 \n",
      "   MDT    GSP    GRR    DSM    CHS    TYS    BOI    ALB    COS    GEG    PVD \n",
      "  8648   8835   9171   9177   9228   9509  10174  11997  12077  12230  12530 \n",
      "   HNL    SYR    DAY    RSW    RIC    ROC    LIT    MKE    BHM    JAX    ORF \n",
      " 12537  12592  14524  14990  15990  16130  16652  17172  18118  18184  18198 \n",
      "   OMA    TUS    ANC    BUF    RNO    TUL    SJU    OKC    PBI    SDF    BDL \n",
      " 18215  18549  19040  19932  20727  20795  21458  22077  22558  24094  25771 \n",
      "   RDU    ELP    BUR    GSO    IAD    FLL    SMF    SNA    AUS    ABQ    IND \n",
      " 27642  28728  31472  32676  33053  33641  36051  36159  36474  36871  37092 \n",
      "   SAT    CMH    SJC    ONT    BNA    TPA    JFK    DAL    MDW    PDX    MSY \n",
      " 38060  38271  39283  40062  43382  45782  46187  46570  47985  48049  49179 \n",
      "   MEM    MCI    HOU    OAK    SAN    BWI    CLE    MCO    MIA    CVG    SLC \n",
      " 53388  56727  57492  65541  65731  66154  66888  67900  70581  76629  84056 \n",
      "   DCA    PHL    SEA    BOS    LGA    EWR    LAS    IAH    PIT    SFO    DEN \n",
      " 86266  91577  92016  92852  99225 109592 112181 121029 126190 129137 130327 \n",
      "   CLT    MSP    DTW    PHX    STL    LAX    ATL    DFW    ORD \n",
      "131417 136436 147610 157155 174847 179909 230470 268127 293422 \n"
     ]
    }
   ],
   "source": [
    "%%R\n",
    "sort(table(MyDF$Origin))"
   ]
  },
  {
   "cell_type": "code",
   "execution_count": 19,
   "id": "d4167d4e-0fb6-4150-9411-d9437184d062",
   "metadata": {},
   "outputs": [
    {
     "name": "stdout",
     "output_type": "stream",
     "text": [
      "\n",
      "   ORD    DFW    ATL    LAX    STL    PHX    DTW    MSP    CLT    DEN    SFO \n",
      "293422 268127 230470 179909 174847 157155 147610 136436 131417 130327 129137 \n",
      "   PIT    IAH    LAS    EWR    LGA    BOS    SEA    PHL    DCA    SLC    CVG \n",
      "126190 121029 112181 109592  99225  92852  92016  91577  86266  84056  76629 \n",
      "   MIA    MCO    CLE    BWI    SAN    OAK    HOU    MCI    MEM    MSY    PDX \n",
      " 70581  67900  66888  66154  65731  65541  57492  56727  53388  49179  48049 \n",
      "   MDW    DAL    JFK    TPA    BNA    ONT    SJC    CMH    SAT    IND    ABQ \n",
      " 47985  46570  46187  45782  43382  40062  39283  38271  38060  37092  36871 \n",
      "   AUS    SNA    SMF    FLL    IAD    GSO    BUR    ELP    RDU    BDL    SDF \n",
      " 36474  36159  36051  33641  33053  32676  31472  28728  27642  25771  24094 \n",
      "   PBI    OKC    SJU    TUL    RNO    BUF    ANC    TUS    OMA    ORF    JAX \n",
      " 22558  22077  21458  20795  20727  19932  19040  18549  18215  18198  18184 \n",
      "   BHM    MKE    LIT    ROC    RIC    RSW    DAY    SYR    HNL    PVD    GEG \n",
      " 18118  17172  16652  16130  15990  14990  14524  12592  12537  12530  12230 \n",
      "   COS    ALB    BOI    TYS    CHS    DSM    GRR    GSP    MDT    MAF    ABE \n",
      " 12077  11997  10174   9509   9228   9177   9171   8835   8648   7512   7198 \n",
      "   ICT    HSV    SRQ    PNS    LBB    HPN    SAV    HRL    CAE    PWM    MOB \n",
      "  7051   6957   6863   6621   6338   6228   5763   5752   5714   5451   5378 \n",
      "   CID    LEX    JAN    FAI    BTR    TLH    MSN    MHT    SHV    SWF    DAB \n",
      "  5318   5070   4945   4843   4741   4668   4640   4629   4552   4402   4364 \n",
      "   FSD    AMA    CRP    JNU    MFE    MBS    BIL    SBN    RST    LNK    CHA \n",
      "  4343   4294   4225   4130   4057   3861   3701   3560   3514   3488   3387 \n",
      "   BTV    FWA    ROA    MLB    PSP    ISP    TRI    AVL    STT    GRB    MYR \n",
      "  3362   3354   3312   3171   3132   3111   3056   2877   2874   2843   2720 \n",
      "   OGG    AVP    KTN    FAT    MGM    AZO    TOL    GTF    AGS    LAN    FAR \n",
      "  2609   2605   2589   2507   2498   2490   2461   2428   2387   2365   2339 \n",
      "   MLU    BZN    ILM    FAY    EUG    CRW    MSO    DLH    MLI    BGR    SGF \n",
      "  2209   2205   2204   2188   2173   2031   1822   1813   1641   1589   1575 \n",
      "   CAK    SBA    GNV    ERI    PSC    JAC    BGM    BIS    GFK    LGB    ELM \n",
      "  1574   1480   1473   1454   1454   1424   1422   1417   1414   1401   1392 \n",
      "   LSE    MFR    PFN    SIT    IDA    MRY    HLN    VPS    MOT    HVN    RAP \n",
      "  1392   1342   1320   1311   1298   1205   1094   1094   1091   1081   1077 \n",
      "   STX    ITH    TVC    BRW    OTZ    FCA    PHF    OME    BET    CSG    BQN \n",
      "  1059   1056   1055   1024   1022   1018   1016   1013    981    971    734 \n",
      "   CDV    WRG    YAK    PSG    SUX    EVV    EGE    BRO    SCC    HTS    HDN \n",
      "   726    726    726    725    710    709    690    687    632    615    556 \n",
      "   ADQ    AKN    BFL    KOA    DUT    OAJ    DLG    FNT    GUC    ANI    KSM \n",
      "   504    475    455    455    379    369    367    248    243    133    133 \n",
      "   SPN    DRO    GST    PIA    MTJ    ACK    TWF    LWB    LFT \n",
      "   105    102     98     76     45     40     23      4      2 \n"
     ]
    }
   ],
   "source": [
    "%%R\n",
    "sort(table(MyDF$Origin), decreasing=TRUE)"
   ]
  },
  {
   "cell_type": "markdown",
   "id": "678d1d29-68bc-4240-abd9-1c035a0c59df",
   "metadata": {},
   "source": [
    "By default, sort table in order from least instances to most instances\n",
    "set decreasing=TRUE, sort table in order from most instances to least instances"
   ]
  },
  {
   "cell_type": "code",
   "execution_count": 21,
   "id": "58003bc9-15a3-4f57-91f3-b3660d3cd982",
   "metadata": {},
   "outputs": [
    {
     "name": "stdout",
     "output_type": "stream",
     "text": [
      "\n",
      "   PHX    STL    LAX    ATL    DFW    ORD \n",
      "157155 174847 179909 230470 268127 293422 \n"
     ]
    }
   ],
   "source": [
    "%%R\n",
    "tail(sort(table(MyDF$Origin)))"
   ]
  },
  {
   "cell_type": "code",
   "execution_count": 20,
   "id": "932d04b6-7b6b-40ca-88f9-77ebe981c692",
   "metadata": {},
   "outputs": [
    {
     "name": "stdout",
     "output_type": "stream",
     "text": [
      "\n",
      "PIA MTJ ACK TWF LWB LFT \n",
      " 76  45  40  23   4   2 \n"
     ]
    }
   ],
   "source": [
    "%%R\n",
    "tail(sort(table(MyDF$Origin), decreasing=TRUE))"
   ]
  },
  {
   "cell_type": "code",
   "execution_count": 23,
   "id": "d43c9efb-21e6-4644-bff4-6ec10fc1386d",
   "metadata": {},
   "outputs": [
    {
     "name": "stdout",
     "output_type": "stream",
     "text": [
      "\n",
      "LFT LWB TWF ACK MTJ PIA \n",
      "  2   4  23  40  45  76 \n"
     ]
    }
   ],
   "source": [
    "%%R\n",
    "head(sort(table(MyDF$Origin)))"
   ]
  },
  {
   "cell_type": "markdown",
   "id": "0fbc63d3-9390-488f-8d59-633b6c734f48",
   "metadata": {},
   "source": [
    "displays the tail of the table.\n",
    "it shows last 6 elements from the table (order matters)\n",
    "head displays first 6 elements of the table just like how it displays 6 rows for each column in the data"
   ]
  },
  {
   "cell_type": "code",
   "execution_count": 16,
   "id": "dc73b9c1-c373-40a6-8a6e-400398068d93",
   "metadata": {},
   "outputs": [
    {
     "name": "stdout",
     "output_type": "stream",
     "text": [
      "   ORD \n",
      "293422 \n"
     ]
    }
   ],
   "source": [
    "%%R\n",
    "table(MyDF$Origin)[\"ORD\"]"
   ]
  },
  {
   "cell_type": "markdown",
   "id": "10a432f9-6404-4b45-8f01-d8537cb23cb7",
   "metadata": {},
   "source": [
    "with [] at the end, select and display specific element from table"
   ]
  },
  {
   "cell_type": "markdown",
   "id": "fc601975-35ed-4680-a4e1-0273ee3cc047",
   "metadata": {},
   "source": [
    "## Question 2"
   ]
  },
  {
   "cell_type": "code",
   "execution_count": 3,
   "id": "a16336a1-1ef0-41e8-bc7c-49387db27497",
   "metadata": {},
   "outputs": [],
   "source": [
    "%%R\n",
    "myAirports <- MyDF$Origin"
   ]
  },
  {
   "cell_type": "code",
   "execution_count": 23,
   "id": "9e02d55c-3b09-4e48-992d-9e31ed70ceab",
   "metadata": {},
   "outputs": [
    {
     "name": "stdout",
     "output_type": "stream",
     "text": [
      "[1] \"factor\"\n"
     ]
    }
   ],
   "source": [
    "%%R\n",
    "class(myAirports)"
   ]
  },
  {
   "cell_type": "code",
   "execution_count": 17,
   "id": "5023faba-d071-4758-b529-318ecd3a4865",
   "metadata": {},
   "outputs": [
    {
     "name": "stdout",
     "output_type": "stream",
     "text": [
      "  [1] ORD ORD ORD ORD ORD ORD ORD ORD ORD ORD ORD ORD ORD ORD ORD ORD ORD ORD\n",
      " [19] ORD ORD ORD ORD ORD ORD ORD ORD ORD ORD ORD ORD ORD ORD ORD ORD ORD ORD\n",
      " [37] ORD ORD ORD ORD ORD ORD ORD ORD ORD ORD ORD ORD ORD ORD ORD ORD ORD ORD\n",
      " [55] ORD ORD ORD ORD ORD ORD ORD ORD ORD ORD ORD ORD ORD ORD ORD ORD ORD ORD\n",
      " [73] ORD ORD ORD ORD ORD ORD ORD ORD ORD ORD ORD ORD ORD ORD ORD ORD ORD ORD\n",
      " [91] ORD ORD ORD ORD ORD ORD ORD ORD ORD ORD ORD ORD ORD ORD ORD ORD ORD ORD\n",
      "[109] ORD ORD ORD ORD ORD ORD ORD ORD ORD ORD ORD ORD ORD ORD ORD ORD ORD ORD\n",
      "[127] ORD ORD ORD ORD ORD ORD ORD ORD ORD ORD ORD ORD ORD ORD ORD ORD ORD ORD\n",
      "[145] ORD ORD ORD ORD ORD ORD ORD ORD ORD ORD ORD ORD ORD ORD ORD ORD ORD ORD\n",
      "[163] ORD ORD ORD ORD ORD ORD ORD ORD ORD ORD ORD ORD ORD ORD ORD ORD ORD ORD\n",
      "[181] ORD ORD ORD ORD ORD ORD ORD ORD ORD ORD ORD ORD ORD ORD ORD ORD ORD ORD\n",
      "[199] ORD ORD ORD ORD ORD ORD ORD ORD ORD ORD ORD ORD ORD ORD ORD ORD ORD ORD\n",
      "[217] ORD ORD ORD ORD ORD ORD ORD ORD ORD ORD ORD ORD ORD ORD ORD ORD ORD ORD\n",
      "[235] ORD ORD ORD ORF ORF ORF ORF ORF ORF ORF ORF ORF ORF ORF ORF ORF\n",
      "218 Levels: ABE ABQ ACK ADQ AGS AKN ALB AMA ANC ANI ATL AUS AVL AVP AZO ... YAK\n"
     ]
    }
   ],
   "source": [
    "%%R\n",
    "head(myAirports, n = 250)"
   ]
  },
  {
   "cell_type": "code",
   "execution_count": 20,
   "id": "206a4b2b-557c-41fa-a241-6947d0a72b18",
   "metadata": {},
   "outputs": [
    {
     "name": "stdout",
     "output_type": "stream",
     "text": [
      "\n",
      "ABE ABQ ACK ADQ AGS AKN ALB AMA ANC ANI ATL AUS AVL AVP AZO BDL BET BFL BGM BGR \n",
      "  0   0   0   0   0   0   0   0   0   0   0   0   0   0   0   0   0   0   0   0 \n",
      "BHM BIL BIS BNA BOI BOS BQN BRO BRW BTR BTV BUF BUR BWI BZN CAE CAK CDV CHA CHS \n",
      "  0   0   0   0   0   0   0   0   0   0   0   0   0   0   0   0   0   0   0   0 \n",
      "CID CLE CLT CMH COS CRP CRW CSG CVG DAB DAL DAY DCA DEN DFW DLG DLH DRO DSM DTW \n",
      "  0   0   0   0   0   0   0   0   0   0   0   0   0   0   0   0   0   0   0   0 \n",
      "DUT EGE ELM ELP ERI EUG EVV EWR FAI FAR FAT FAY FCA FLL FNT FSD FWA GEG GFK GNV \n",
      "  0   0   0   0   0   0   0   0   0   0   0   0   0   0   0   0   0   0   0   0 \n",
      "GRB GRR GSO GSP GST GTF GUC HDN HLN HNL HOU HPN HRL HSV HTS HVN IAD IAH ICT IDA \n",
      "  0   0   0   0   0   0   0   0   0   0   0   0   0   0   0   0   0   0   0   0 \n",
      "ILM IND ISP ITH JAC JAN JAX JFK JNU KOA KSM KTN LAN LAS LAX LBB LEX LFT LGA LGB \n",
      "  0   0   0   0   0   0   0   0   0   0   0   0   0   0   0   0   0   0   0   0 \n",
      "LIT LNK LSE LWB MAF MBS MCI MCO MDT MDW MEM MFE MFR MGM MHT MIA MKE MLB MLI MLU \n",
      "  0   0   0   0   0   0   0   0   0   0   0   0   0   0   0   0   0   0   0   0 \n",
      "MOB MOT MRY MSN MSO MSP MSY MTJ MYR OAJ OAK OGG OKC OMA OME ONT ORD ORF OTZ PBI \n",
      "  0   0   0   0   0   0   0   0   0   0   0   0   0   0   0   0 237  13   0   0 \n",
      "PDX PFN PHF PHL PHX PIA PIT PNS PSC PSG PSP PVD PWM RAP RDU RIC RNO ROA ROC RST \n",
      "  0   0   0   0   0   0   0   0   0   0   0   0   0   0   0   0   0   0   0   0 \n",
      "RSW SAN SAT SAV SBA SBN SCC SDF SEA SFO SGF SHV SIT SJC SJU SLC SMF SNA SPN SRQ \n",
      "  0   0   0   0   0   0   0   0   0   0   0   0   0   0   0   0   0   0   0   0 \n",
      "STL STT STX SUX SWF SYR TLH TOL TPA TRI TUL TUS TVC TWF TYS VPS WRG YAK \n",
      "  0   0   0   0   0   0   0   0   0   0   0   0   0   0   0   0   0   0 \n"
     ]
    }
   ],
   "source": [
    "%%R\n",
    "table(head(myAirports, n = 250))"
   ]
  },
  {
   "cell_type": "code",
   "execution_count": 19,
   "id": "6677dff1-4fbf-4314-b2c4-58e63cf2968a",
   "metadata": {},
   "outputs": [
    {
     "name": "stdout",
     "output_type": "stream",
     "text": [
      "ORD \n",
      "237 \n"
     ]
    }
   ],
   "source": [
    "%%R\n",
    "table(head(myAirports, n = 250))[\"ORD\"]"
   ]
  },
  {
   "cell_type": "code",
   "execution_count": 22,
   "id": "4324bf52-be03-446e-b287-21cd05874036",
   "metadata": {},
   "outputs": [
    {
     "name": "stdout",
     "output_type": "stream",
     "text": [
      "   ORD \n",
      "293422 \n"
     ]
    }
   ],
   "source": [
    "%%R\n",
    "table(myAirports)[\"ORD\"]"
   ]
  },
  {
   "cell_type": "markdown",
   "id": "14dc22d4-ddc3-41cc-a91a-cb0025bc0c80",
   "metadata": {},
   "source": [
    "What type of data is in the vector myairports?\n",
    "-> factor\n",
    "\n",
    "The vector myairports contains all of the airports where flights departed in 1995. Print the first 250 of those airports. [Do not print all of the airports, because there are 5327435 such values!] How many of the first 250 flights departed from O’Hare?\n",
    "-> 237 flights\n",
    "\n",
    "How many flights departed by O’Hare altogether in 1995?\n",
    "-> 293422 flights"
   ]
  },
  {
   "cell_type": "markdown",
   "id": "8e586edd-ff26-4ce2-8f6b-2424b26f2929",
   "metadata": {},
   "source": [
    "## Question 3"
   ]
  },
  {
   "cell_type": "code",
   "execution_count": 25,
   "id": "bbe0f40d-9655-4653-9ca8-886bdb61cb91",
   "metadata": {},
   "outputs": [
    {
     "name": "stdout",
     "output_type": "stream",
     "text": [
      "  IND \n",
      "37092 \n"
     ]
    }
   ],
   "source": [
    "%%R\n",
    "table(myAirports)[\"IND\"]"
   ]
  },
  {
   "cell_type": "code",
   "execution_count": 26,
   "id": "1f1d8121-b525-4a1b-ae80-11bf660b4ca4",
   "metadata": {},
   "outputs": [
    {
     "name": "stdout",
     "output_type": "stream",
     "text": [
      "  IND \n",
      "37103 \n"
     ]
    }
   ],
   "source": [
    "%%R\n",
    "table(MyDF$Dest)[\"IND\"]"
   ]
  },
  {
   "cell_type": "code",
   "execution_count": 27,
   "id": "5344b144-50db-4738-9c6c-27215b60cd51",
   "metadata": {},
   "outputs": [
    {
     "name": "stdout",
     "output_type": "stream",
     "text": [
      "    Year Month DayofMonth DayOfWeek DepTime CRSDepTime ArrTime CRSArrTime\n",
      "894 1995     1          8         7    1838       1840    1944       1949\n",
      "    UniqueCarrier FlightNum TailNum ActualElapsedTime CRSElapsedTime AirTime\n",
      "894            US       931  N442US                66             69      54\n",
      "    ArrDelay DepDelay Origin Dest Distance TaxiIn TaxiOut Cancelled\n",
      "894       -5       -2    PVD  PHL      238      4       8         0\n",
      "    CancellationCode Diverted CarrierDelay WeatherDelay NASDelay SecurityDelay\n",
      "894               NA        0           NA           NA       NA            NA\n",
      "    LateAircraftDelay\n",
      "894                NA\n"
     ]
    }
   ],
   "source": [
    "%%R\n",
    "MyDF[894,]"
   ]
  },
  {
   "cell_type": "code",
   "execution_count": 40,
   "id": "5f430f29-f32f-4893-b688-6f28d7bafa2a",
   "metadata": {},
   "outputs": [
    {
     "name": "stdout",
     "output_type": "stream",
     "text": [
      "   Min. 1st Qu.  Median    Mean 3rd Qu.    Max.    NA's \n",
      "   11.0   316.0   545.0   695.5   934.0  4502.0    5987 \n"
     ]
    }
   ],
   "source": [
    "%%R\n",
    "summary(MyDF$Distance)"
   ]
  },
  {
   "cell_type": "code",
   "execution_count": 8,
   "id": "effc437f-b827-42ae-8f29-1d21c6b279b0",
   "metadata": {},
   "outputs": [
    {
     "name": "stdout",
     "output_type": "stream",
     "text": [
      "  [1] 198 198 198 198 198 198 198 198 198 198 198 198 198 198 198 198 198 198\n",
      " [19] 198 198 198 198 198 198 198 198 198 198 198 198 198 198 198 198 198 198\n",
      " [37] 198 198 198 198 198 198 198 198 198 198 198 198 198 198 198 198 198 198\n",
      " [55] 198 198 198 198 198 198 198 198 198 198 198 198 198 198 198 198 198 198\n",
      " [73] 198 198 198 198 198 198 198 198 198 198 198 198 198 198 198 198 198 198\n",
      " [91] 198 198 198 198 198 198 198 198 198 198\n"
     ]
    }
   ],
   "source": [
    "%%R\n",
    "head(MyDF$Distance[MyDF$Distance < 200], n = 100)"
   ]
  },
  {
   "cell_type": "code",
   "execution_count": 7,
   "id": "98049b7a-1d66-40a3-b993-c7a57cfb1131",
   "metadata": {},
   "outputs": [
    {
     "name": "stdout",
     "output_type": "stream",
     "text": [
      "  [1] RIC RIC RIC RIC RIC RIC RIC RIC RIC RIC RIC RIC RIC RIC RIC RIC RIC RIC\n",
      " [19] RIC RIC RIC RIC RIC RIC RIC RIC RIC RIC RIC RIC RIC RIC RIC RIC RIC RIC\n",
      " [37] RIC RIC RIC RIC RIC RIC RIC RIC RIC RIC RIC RIC RIC RIC RIC RIC RIC RIC\n",
      " [55] RIC RIC RIC RIC RIC RIC RIC RIC RIC RIC RIC RIC RIC RIC RIC RIC RIC RIC\n",
      " [73] RIC RIC RIC RIC RIC RIC RIC RIC RIC RIC RIC RIC RIC RIC RIC RIC RIC RIC\n",
      " [91] RIC RIC RIC RIC RIC RIC RIC RIC RIC RIC\n",
      "218 Levels: ABE ABQ ACK ADQ AGS AKN ALB AMA ANC ANI ATL AUS AVL AVP AZO ... YAK\n"
     ]
    }
   ],
   "source": [
    "%%R\n",
    "head(MyDF$Origin[MyDF$Distance < 200], n = 100)"
   ]
  },
  {
   "cell_type": "code",
   "execution_count": 9,
   "id": "395be0d9-e317-48dc-9758-429b89f04a0c",
   "metadata": {},
   "outputs": [
    {
     "name": "stdout",
     "output_type": "stream",
     "text": [
      "  [1] PHL PHL PHL PHL PHL PHL PHL PHL PHL PHL PHL PHL PHL PHL PHL PHL PHL PHL\n",
      " [19] PHL PHL PHL PHL PHL PHL PHL PHL PHL PHL PHL PHL PHL PHL PHL PHL PHL PHL\n",
      " [37] PHL PHL PHL PHL PHL PHL PHL PHL PHL PHL PHL PHL PHL PHL PHL PHL PHL PHL\n",
      " [55] PHL PHL PHL PHL PHL PHL PHL PHL PHL PHL PHL PHL PHL PHL PHL PHL PHL PHL\n",
      " [73] PHL PHL PHL PHL PHL PHL PHL PHL PHL PHL PHL PHL PHL PHL PHL PHL PHL PHL\n",
      " [91] PHL PHL PHL PHL PHL PHL PHL PHL PHL PHL\n",
      "218 Levels: ABE ABQ ACK ADQ AGS AKN ALB AMA ANC ANI ATL ATW AUS AVL AVP ... YAK\n"
     ]
    }
   ],
   "source": [
    "%%R\n",
    "head(MyDF$Dest[MyDF$Distance < 200], n = 100)"
   ]
  },
  {
   "cell_type": "code",
   "execution_count": 41,
   "id": "4fb58395-1614-48b4-a0fe-419292c7dede",
   "metadata": {},
   "outputs": [
    {
     "name": "stdout",
     "output_type": "stream",
     "text": [
      "[1] 475141\n"
     ]
    }
   ],
   "source": [
    "%%R\n",
    "length(MyDF$Distance[MyDF$Distance < 200])"
   ]
  },
  {
   "cell_type": "markdown",
   "id": "2397337d-78f1-4596-8be9-e90ba3b21187",
   "metadata": {},
   "source": [
    "This includes na values"
   ]
  },
  {
   "cell_type": "code",
   "execution_count": 42,
   "id": "32594411-78fa-48de-8d6a-9450062c7aa1",
   "metadata": {},
   "outputs": [
    {
     "name": "stdout",
     "output_type": "stream",
     "text": [
      "[1] 469154\n"
     ]
    }
   ],
   "source": [
    "%%R\n",
    "sum(MyDF$Distance < 200, na.rm=TRUE)"
   ]
  },
  {
   "cell_type": "markdown",
   "id": "72053b56-4b9a-4d2d-8fc8-5826616f52f0",
   "metadata": {},
   "source": [
    "assign true or false value for every elements in the data at MyDF$Distance\n",
    "remove na values from this data\n",
    "and sum all the value of elements, which in this case is equal to the number of flights with distance less than 200 miles"
   ]
  },
  {
   "cell_type": "code",
   "execution_count": 17,
   "id": "5b68a874-b3ef-4577-a9ea-469c92002c4b",
   "metadata": {},
   "outputs": [
    {
     "name": "stdout",
     "output_type": "stream",
     "text": [
      "[1] FALSE FALSE FALSE FALSE FALSE FALSE\n"
     ]
    }
   ],
   "source": [
    "%%R\n",
    "head(MyDF$Distance < 200)"
   ]
  },
  {
   "cell_type": "code",
   "execution_count": 44,
   "id": "b9914b03-a666-4998-9da2-9509e05b3a6a",
   "metadata": {},
   "outputs": [
    {
     "name": "stdout",
     "output_type": "stream",
     "text": [
      "[1] 5987\n"
     ]
    }
   ],
   "source": [
    "%%R\n",
    "length(MyDF$Distance[MyDF$Distance < 200]) - sum(MyDF$Distance < 200, na.rm=TRUE)"
   ]
  },
  {
   "cell_type": "markdown",
   "id": "47c6229f-35f7-400c-8366-c442baa5cf47",
   "metadata": {},
   "source": [
    "How many flights departed from Indianapolis (IND) in 1995? How many flights landed there?\n",
    "-> 37092 flights departed from IND and 37103 flights landed at IND\n",
    "\n",
    "Consider the flight data from row 894 the data frame. What airport did it depart from? Where did it arrive?\n",
    "-> the flight departed from PVD and arrived at PHL\n",
    "\n",
    "How many flights have a distance of less than 200 miles?\n",
    "-> 469154 flights are for certain travelled less than 200 miles\n",
    "-> but we are not sure whether 5987 flights travelled more than or less than 200 miles"
   ]
  },
  {
   "cell_type": "markdown",
   "id": "da22f29c-d245-4d2b-9fc1-ca14cb6087d9",
   "metadata": {},
   "source": [
    "## Question 4"
   ]
  },
  {
   "cell_type": "code",
   "execution_count": 18,
   "id": "8cffc767-d1c8-4d64-b7dc-f0d2ee8a80d1",
   "metadata": {},
   "outputs": [
    {
     "name": "stdout",
     "output_type": "stream",
     "text": [
      "\n",
      "    DL     US     UA     WN     AA     NW     CO     TW     HP     AS \n",
      "884019 778835 724807 693101 688471 521693 434425 272452 194508 135124 \n"
     ]
    }
   ],
   "source": [
    "%%R\n",
    "sort(table(MyDF$UniqueCarrier), decreasing=TRUE)"
   ]
  },
  {
   "cell_type": "code",
   "execution_count": 19,
   "id": "89e06fb0-f8c4-414d-9c2f-a4a9e64a9f86",
   "metadata": {},
   "outputs": [
    {
     "name": "stdout",
     "output_type": "stream",
     "text": [
      "\n",
      "    DL     US     UA \n",
      "884019 778835 724807 \n"
     ]
    }
   ],
   "source": [
    "%%R\n",
    "head(sort(table(MyDF$UniqueCarrier), decreasing=TRUE), n=3)"
   ]
  },
  {
   "cell_type": "code",
   "execution_count": 26,
   "id": "6c6eefcd-970e-430b-a711-1d3e6779c988",
   "metadata": {},
   "outputs": [
    {
     "name": "stdout",
     "output_type": "stream",
     "text": [
      "\n",
      "UNKNOW    N67    N89    N83    N71   N103    N68   N102    N91    N59    N64 \n",
      " 65072   3485   3479   3476   3474   3463   3458   3448   3448   3447   3434 \n"
     ]
    }
   ],
   "source": [
    "%%R\n",
    "head(sort(table(MyDF$TailNum), decreasing=TRUE), n=11)"
   ]
  },
  {
   "cell_type": "markdown",
   "id": "0d552245-b4d6-474a-9cc9-fa7b8e674d55",
   "metadata": {},
   "source": [
    "Rank the airline companies (in the column myDF$UniqueCarrier) according to their popularity, i.e., according to the number of flights on each airline).\n",
    "-> DL     US     UA     WN     AA     NW     CO     TW     HP     AS DL     US     UA     WN     AA     NW     CO     TW     HP     AS \n",
    "\n",
    "Which are the three most popular airlines from 1995?\n",
    "-> DL, US, UA\n",
    "\n",
    "Now find the ten airplanes that had the most flights in 1995. List them in order, from most popular to least popular. Do you notice anything unusual about the results?\n",
    "-> There are a lot of missing tail numbers, which is about 65072 in total\n",
    "-> Excluding these missing data, we can conclude that N67    N89    N83    N71   N103    N68   N102    N91    N59    N64N67    N89    N83    N71   N103    N68   N102    N91    N59    N64 are the top ten most popular airlines in descreasing order of popularity."
   ]
  },
  {
   "cell_type": "markdown",
   "id": "88c9cdac-3e92-498f-83fa-e089bfc44ac8",
   "metadata": {},
   "source": [
    "## Question 5"
   ]
  },
  {
   "cell_type": "code",
   "execution_count": 51,
   "id": "d370d7c9-06db-42b9-b75f-240481a5c491",
   "metadata": {},
   "outputs": [
    {
     "data": {
      "image/png": "[encoded data removed]"
     },
     "metadata": {},
     "output_type": "display_data"
    }
   ],
   "source": [
    "%%R\n",
    "plot(table(MyDF$UniqueCarrier[MyDF$Distance < 200]))\n",
    "# short distance travel"
   ]
  },
  {
   "cell_type": "code",
   "execution_count": 52,
   "id": "2d458317-963e-4eb8-b7b2-af4f44789562",
   "metadata": {},
   "outputs": [
    {
     "data": {
      "image/png": "[encoded data removed]"
     },
     "metadata": {},
     "output_type": "display_data"
    }
   ],
   "source": [
    "%%R\n",
    "plot(table(MyDF$UniqueCarrier[MyDF$Distance > 500 && MyDF$Distance < 1000]))\n",
    "# medium distance travel"
   ]
  },
  {
   "cell_type": "code",
   "execution_count": 50,
   "id": "51ef1071-7f56-4c31-b779-661ece1b2cba",
   "metadata": {},
   "outputs": [
    {
     "name": "stdout",
     "output_type": "stream",
     "text": [
      "\n",
      "    AS     HP     TW     CO     NW     AA     WN     UA     US     DL \n",
      "135124 194508 272452 434425 521693 688471 693101 724807 778835 884019 \n"
     ]
    }
   ],
   "source": [
    "%%R\n",
    "sort(table(MyDF$UniqueCarrier[MyDF$Distance > 500 && MyDF$Distance < 1000]))"
   ]
  },
  {
   "cell_type": "code",
   "execution_count": 53,
   "id": "952c888a-ae7a-4180-80fc-03a51304661a",
   "metadata": {},
   "outputs": [
    {
     "data": {
      "image/png": "[encoded data removed]"
     },
     "metadata": {},
     "output_type": "display_data"
    }
   ],
   "source": [
    "%%R\n",
    "plot(table(MyDF$UniqueCarrier[MyDF$Distance > 1500]))\n",
    "# long distance travel"
   ]
  },
  {
   "cell_type": "code",
   "execution_count": 43,
   "id": "72c71523-2934-4ed4-95eb-8c0c1a653654",
   "metadata": {},
   "outputs": [
    {
     "data": {
      "image/png": "[encoded data removed]"
     },
     "metadata": {},
     "output_type": "display_data"
    }
   ],
   "source": [
    "%%R\n",
    "dotchart(table(MyDF$UniqueCarrier[MyDF$Distance > 1500]))"
   ]
  },
  {
   "cell_type": "markdown",
   "id": "9fbf00fb-2418-460f-ae94-2a32b0c28952",
   "metadata": {},
   "source": [
    "Pick a column of data that you are interested in studying, or a question that you want answered. Create either a plot, or a dotchart. Before making the plot, think about how many dots will be displayed on your plot or dotchart. If you try to display millions of dots, you might cause your Jupyter Lab session to freeze or crash. It is useful to think ahead and to consider how your plot might look, before you accidentally try to display millions of dots.\n",
    "\n",
    "Descibe any patterns you may see in the plot and the dotchart. If there are none, that is okay, and you can just write \"there seem to be no patterns.\"\n",
    "-> DL and US are for short~medium distance travel, and AA UA are for long distance travel.\n",
    "It could be infered that DL and US own a lot of small airplanes while AA and UA own a lot of big airplanes."
   ]
  },
  {
   "cell_type": "markdown",
   "id": "f76442d6-d02e-4f26-b9d6-c3183e1d6929",
   "metadata": {},
   "source": [
    "## Pledge\n",
    "\n",
    "By submitting this work I hereby pledge that this is my own, personal work. I've acknowledged in the designated place at the top of this file all sources that I used to complete said work, including but not limited to: online resources, books, and electronic communications. I've noted all collaboration with fellow students and/or TA's. I did not copy or plagiarize another's work.\n",
    "\n",
    "> As a Boilermaker pursuing academic excellence, I pledge to be honest and true in all that I do. Accountable together – We are Purdue."
   ]
  }
 ],
 "metadata": {
  "kernelspec": {
   "display_name": "f2022-s2023",
   "language": "python",
   "name": "f2022-s2023"
  },
  "language_info": {
   "codemirror_mode": {
    "name": "ipython",
    "version": 3
   },
   "file_extension": ".py",
   "mimetype": "text/x-python",
   "name": "python",
   "nbconvert_exporter": "python",
   "pygments_lexer": "ipython3",
   "version": "3.10.5"
  }
 },
 "nbformat": 4,
 "nbformat_minor": 5
}
