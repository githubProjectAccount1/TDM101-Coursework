{
 "cells": [
  {
   "cell_type": "markdown",
   "id": "be02a957-7133-4d02-818e-fedeb3cecb05",
   "metadata": {},
   "source": [
    "# Project 5 -- Youngjun Suh"
   ]
  },
  {
   "cell_type": "markdown",
   "id": "a1228853-dd19-4ab2-89e0-0394d7d72de3",
   "metadata": {},
   "source": [
    "**TA Help:** John Smith, Alice Jones\n",
    "\n",
    "- Help with figuring out how to write a function.\n",
    "    \n",
    "**Collaboration:** Friend1, Friend2\n",
    "    \n",
    "- Helped figuring out how to load the dataset.\n",
    "- Helped debug error with my plot."
   ]
  },
  {
   "cell_type": "code",
   "execution_count": 1,
   "id": "ee74d7b3-6765-4b52-8c07-db6d8148b079",
   "metadata": {},
   "outputs": [],
   "source": [
    "options(jupyter.rich_display = F)\n",
    "options(repr.matrix.max.cols=25, repr.matrix.max.rows=200)"
   ]
  },
  {
   "cell_type": "code",
   "execution_count": 2,
   "id": "49445606-d363-41b4-b479-e319a9a84c01",
   "metadata": {},
   "outputs": [],
   "source": [
    " myDF <- read.csv(\"/anvil/projects/tdm/data/election/escaped/itcont2020sample.txt\", sep=\"|\")"
   ]
  },
  {
   "cell_type": "markdown",
   "id": "6180e742-8e39-4698-98ff-5b00c8cf8ea0",
   "metadata": {},
   "source": [
    "## Question 1"
   ]
  },
  {
   "cell_type": "code",
   "execution_count": 3,
   "id": "32bdc42d-785d-4694-b122-c435dcbad82d",
   "metadata": {},
   "outputs": [
    {
     "data": {
      "text/plain": [
       "  CMTE_ID   AMNDT_IND RPT_TP TRANSACTION_PGI IMAGE_NUM    TRANSACTION_TP\n",
       "1 C00401224 N         YE                     2.020013e+17 24T           \n",
       "2 C00401224 N         M4     P               2.020042e+17 24T           \n",
       "3 C00193433 N         YE     P               2.020012e+17 15            \n",
       "4 C00401224 N         YE                     2.020013e+17 24T           \n",
       "5 C00401224 N         MY                     2.019073e+17 24T           \n",
       "6 C00618371 N         Q3     P               2.019102e+17 15            \n",
       "  ENTITY_TP NAME             CITY         STATE ZIP_CODE EMPLOYER    \n",
       "1 IND       SOLOMON, VICTOR  CAPE CORAL   FL    33904    RETIRED     \n",
       "2 IND       MYERS, ELIZABETH SCOTTSVILLE  NY    14546    NOT EMPLOYED\n",
       "3 IND       HASKINS, GEORGE  HARTSDALE    NY    10530    NOT EMPLOYED\n",
       "4 IND       KOLBE, NINA      WASHINGTON   DC    20003    SELF        \n",
       "5 IND       ESSENBERG, PENNY GRAND RAPIDS MI    49534                \n",
       "6 IND       GIEBEL, BETTY    KISSIMMEE    FL    34744    HOMEMAKER   \n",
       "  OCCUPATION          TRANSACTION_DT TRANSACTION_AMT OTHER_ID  TRAN_ID         \n",
       "1 NOT EMPLOYED         7112019       15              C00042366 SA11AI_165851302\n",
       "2 NOT EMPLOYED         3042020       39              C00696948 SA11AI_216676150\n",
       "3 NOT EMPLOYED        12182019       15                        6260719         \n",
       "4 HEALTH PROFESSIONAL  8302019       10              C00637074 SA11AI_174544101\n",
       "5                      3212019       16              C00580068 SB28A_145393165 \n",
       "6 HOMEMAKER            7112019       42                        SA11AI.178611   \n",
       "  FILE_NUM MEMO_CD\n",
       "1 1378435         \n",
       "2 1402724         \n",
       "3 1371576         \n",
       "4 1378435         \n",
       "5 1344765         \n",
       "6 1358506         \n",
       "  MEMO_TEXT                                                                              \n",
       "1 EARMARKED FOR DSCC (C00042366)                                                         \n",
       "2 EARMARKED FOR BERNIE 2020 (C00696948)                                                  \n",
       "3                                                                                        \n",
       "4 EARMARKED FOR FINKENAUER FOR CONGRESS (C00637074)                                      \n",
       "5 REFUND OF CONTRIBUTION, INITIALLY EARMARKED FOR PROGRESSIVE TURNOUT PROJECT (C00580068)\n",
       "6                                                                                        \n",
       "  SUB_ID     \n",
       "1 4.03022e+18\n",
       "2 4.05142e+18\n",
       "3 4.01222e+18\n",
       "4 4.03022e+18\n",
       "5 4.08282e+18\n",
       "6 4.10182e+18"
      ]
     },
     "metadata": {},
     "output_type": "display_data"
    }
   ],
   "source": [
    "head(myDF)"
   ]
  },
  {
   "cell_type": "code",
   "execution_count": 4,
   "id": "cb504345-125c-46aa-9399-67b0c6d1970c",
   "metadata": {},
   "outputs": [
    {
     "data": {
      "text/plain": [
       "[1] \"integer\""
      ]
     },
     "metadata": {},
     "output_type": "display_data"
    }
   ],
   "source": [
    "class(myDF$TRANSACTION_DT)"
   ]
  },
  {
   "cell_type": "code",
   "execution_count": 5,
   "id": "2b8adda3-8492-4c34-b5dd-0c50b6902558",
   "metadata": {},
   "outputs": [
    {
     "name": "stderr",
     "output_type": "stream",
     "text": [
      "Warning message in system(\"timedatectl\", intern = TRUE):\n",
      "\"running command 'timedatectl' had status 1\"\n",
      "\n",
      "Attaching package: 'lubridate'\n",
      "\n",
      "\n",
      "The following objects are masked from 'package:base':\n",
      "\n",
      "    date, intersect, setdiff, union\n",
      "\n",
      "\n"
     ]
    }
   ],
   "source": [
    "library(lubridate)"
   ]
  },
  {
   "cell_type": "code",
   "execution_count": 6,
   "id": "ed18f0e7-0a79-4d58-abd8-89ad02e104ec",
   "metadata": {},
   "outputs": [],
   "source": [
    "myDF$newdates <- mdy(myDF$TRANSACTION_DT)"
   ]
  },
  {
   "cell_type": "code",
   "execution_count": 7,
   "id": "a545b6e9-c313-46cb-8f6b-d880105bcaff",
   "metadata": {},
   "outputs": [
    {
     "data": {
      "text/plain": [
       "[1] \"Date\""
      ]
     },
     "metadata": {},
     "output_type": "display_data"
    }
   ],
   "source": [
    "class(myDF$newdates)"
   ]
  },
  {
   "cell_type": "code",
   "execution_count": 8,
   "id": "51da9da2-4b47-43ce-b768-caea0b8a8c49",
   "metadata": {},
   "outputs": [
    {
     "data": {
      "text/plain": [
       " [1] \"2019-07-11\" \"2020-03-04\" \"2019-12-18\" \"2019-08-30\" \"2019-03-21\"\n",
       " [6] \"2019-07-11\" \"2019-11-28\" \"2019-08-20\" \"2020-04-17\" \"2019-11-15\"\n",
       "[11] \"2020-02-11\" \"2020-03-16\" \"2020-03-02\" \"2020-01-21\" \"2019-08-16\"\n",
       "[16] \"2020-03-27\" \"2019-07-23\" \"2020-01-19\" \"2019-10-23\" \"2019-11-16\"\n",
       "[21] \"2019-12-30\" \"2020-03-04\" \"2019-10-07\" \"2019-03-12\" \"2019-11-16\""
      ]
     },
     "metadata": {},
     "output_type": "display_data"
    }
   ],
   "source": [
    "head(myDF$newdates, n = 25)"
   ]
  },
  {
   "cell_type": "code",
   "execution_count": 9,
   "id": "34e5058c-abc7-4832-81b8-cc3bd78dd97e",
   "metadata": {},
   "outputs": [],
   "source": [
    "# tapply will sum TRANSCATION_AMT based on the newdates category."
   ]
  },
  {
   "cell_type": "code",
   "execution_count": 10,
   "id": "c5201edb-16fd-4f9e-b59e-3ed2fda03174",
   "metadata": {},
   "outputs": [],
   "source": [
    "myresult <- tapply(myDF$TRANSACTION_AMT, myDF$newdates, sum)"
   ]
  },
  {
   "cell_type": "code",
   "execution_count": 11,
   "id": "c1d485ff-9250-4e35-87be-90f57a84083a",
   "metadata": {},
   "outputs": [
    {
     "data": {
      "text/plain": [
       "\n",
       "  1000000   1050000   1085559   1250000   1333333   1380000   1415274   1500000 \n",
       "        4         1         1         1         1         1         1         4 \n",
       "  1800000   2000000   2500000   5000000   5941010  10000000  18000000  58000000 \n",
       "        1         2         1         1         1         1         1         1 \n",
       " 85000000 125000000 \n",
       "        1         1 "
      ]
     },
     "metadata": {},
     "output_type": "display_data"
    }
   ],
   "source": [
    "table(head(sort(myDF$TRANSACTION_AMT, decreasing=TRUE), n=25))"
   ]
  },
  {
   "cell_type": "code",
   "execution_count": 12,
   "id": "0c01c00e-2d82-4fd1-84f3-44d922ff7889",
   "metadata": {},
   "outputs": [
    {
     "data": {
      "text/plain": [
       "[1] 596"
      ]
     },
     "metadata": {},
     "output_type": "display_data"
    }
   ],
   "source": [
    "length(sort(unique(myDF$newdates)))"
   ]
  },
  {
   "cell_type": "code",
   "execution_count": 13,
   "id": "52c0d10e-bb3d-42af-bb18-b9ce001d6245",
   "metadata": {},
   "outputs": [
    {
     "data": {
      "image/png": "[encoded data removed]",
      "text/plain": [
       "plot without title"
      ]
     },
     "metadata": {
      "image/png": {
       "height": 420,
       "width": 420
      }
     },
     "output_type": "display_data"
    }
   ],
   "source": [
    "# sort will align dots when plotting the myresult\n",
    "plot(sort(unique(myDF$newdates)), myresult)"
   ]
  },
  {
   "cell_type": "markdown",
   "id": "b456e57c-4a12-464b-999a-ef2df5af80c1",
   "metadata": {},
   "source": [
    "a) Use the mdy function (from the lubridate library) on the column TRANSACTION_DT, to create a new column named newdates.\n",
    "\n",
    "b) Using tapply, add the values in the TRANSACTION_AMT column, according to the values in the newdate column.\n",
    "\n",
    "c) Plot the dates on the x-axis and the information we found in part b on the y-axis."
   ]
  },
  {
   "cell_type": "markdown",
   "id": "fc601975-35ed-4680-a4e1-0273ee3cc047",
   "metadata": {},
   "source": [
    "## Question 2"
   ]
  },
  {
   "cell_type": "code",
   "execution_count": 14,
   "id": "a16336a1-1ef0-41e8-bc7c-49387db27497",
   "metadata": {},
   "outputs": [],
   "source": [
    "newDF <- subset(myDF, (newdates >= mdy(\"01/01/2019\"))\n",
    "                    & (newdates <= mdy(\"05/15/2019\"))\n",
    "               )"
   ]
  },
  {
   "cell_type": "code",
   "execution_count": 15,
   "id": "75b7c118-8c66-48dd-b968-1357cc69760d",
   "metadata": {},
   "outputs": [],
   "source": [
    "mynewresult <- tapply(newDF$TRANSACTION_AMT, newDF$newdates, sum)"
   ]
  },
  {
   "cell_type": "code",
   "execution_count": 18,
   "id": "d8b05a87-ff60-484b-9548-c903ff188522",
   "metadata": {},
   "outputs": [
    {
     "data": {
      "text/plain": [
       "2019-02-28 2019-04-24 2019-04-30 2019-05-03 2019-03-29 2019-03-31 \n",
       "   2542423    2626638    2663527    2750129    3811357    4369255 "
      ]
     },
     "metadata": {},
     "output_type": "display_data"
    }
   ],
   "source": [
    "tail(sort(mynewresult))"
   ]
  },
  {
   "cell_type": "code",
   "execution_count": 20,
   "id": "bbf49697-0044-4984-8de3-7152e1776f02",
   "metadata": {},
   "outputs": [
    {
     "data": {
      "text/plain": [
       "[1] 135"
      ]
     },
     "metadata": {},
     "output_type": "display_data"
    }
   ],
   "source": [
    "length(sort(unique(newDF$newdates)))"
   ]
  },
  {
   "cell_type": "code",
   "execution_count": 22,
   "id": "b173f7d5-7c0d-4b19-ae6a-0fac62e17d8e",
   "metadata": {},
   "outputs": [
    {
     "data": {
      "text/plain": [
       "[1] 135"
      ]
     },
     "metadata": {},
     "output_type": "display_data"
    }
   ],
   "source": [
    "length(mynewresult)"
   ]
  },
  {
   "cell_type": "code",
   "execution_count": 23,
   "id": "829c612a-97e8-4315-bdc8-dfe38dab809c",
   "metadata": {},
   "outputs": [
    {
     "data": {
      "image/png": "[encoded data removed]",
      "text/plain": [
       "plot without title"
      ]
     },
     "metadata": {
      "image/png": {
       "height": 420,
       "width": 420
      }
     },
     "output_type": "display_data"
    }
   ],
   "source": [
    "plot(sort(unique(newDF$newdates)), mynewresult)"
   ]
  },
  {
   "cell_type": "markdown",
   "id": "5e2a3673-990c-45be-ba6d-1cdcf8450b43",
   "metadata": {},
   "source": [
    "a) Create a new dataframe that only contains data for the dates in the range 01/01/2019-05/15/2019\n",
    "\n",
    "b) Plot the new dataframe\n",
    "\n",
    "c) What do you notice about the data?\n",
    " Maybe more donations during weekend than donations during weekdays."
   ]
  },
  {
   "cell_type": "markdown",
   "id": "8e586edd-ff26-4ce2-8f6b-2424b26f2929",
   "metadata": {},
   "source": [
    "## Question 3"
   ]
  },
  {
   "cell_type": "code",
   "execution_count": 24,
   "id": "bbe0f40d-9655-4653-9ca8-886bdb61cb91",
   "metadata": {},
   "outputs": [],
   "source": [
    "stateresult <- tapply(myDF$TRANSACTION_AMT, myDF$STATE, sum)"
   ]
  },
  {
   "cell_type": "code",
   "execution_count": 28,
   "id": "8e0f387a-9970-42ee-870a-9493bd12d52a",
   "metadata": {},
   "outputs": [
    {
     "data": {
      "text/plain": [
       "                 AA        AB        AE        AK        AL        AP        AR \n",
       "   431548     32243      1474     87137   1627993   7195054     49240   5690116 \n",
       "       AS        AZ        BC        CA        CO        CT        DC        DE \n",
       "     2908  11750510     12083 151842431  18025653  12065158  37280905   2120061 \n",
       "       FL        FM        GA        GU        HI        IA        ID        IL \n",
       " 44118779      2250  17026567     78087   1730014   4291247   1626126  27940911 \n",
       "       IN        KS        KY        LA        MA        MB        MD        ME \n",
       "  8906170   4311170   4440149   6202190  32308431       213  14940848   3393310 \n",
       "       MH        MI        MN        MO        MP        MS        MT        NB \n",
       "     5000  15933204   9990430   7123990     10098   1844410   2389091       417 \n",
       "       NC        ND        NE        NH        NJ        NL        NM        NS \n",
       " 13368140   1665152   2418525   2970383  16327791       909   4137547       678 \n",
       "       NT        NV        NY        OH        OK        ON        OR        PA \n",
       "        9   9346089 364883860  15076354   5402240     17743   7088869  25093386 \n",
       "       PE        PR        PW        QC        RI        SC        SD        SK \n",
       "       50    457693      5000      4347   1636246   5586743   1212866        66 \n",
       "       SP        TN        TX        UK        UT        VA        VI        VT \n",
       "        2   9043359  63719103        25   3517485  24995172     86549   1492795 \n",
       "       WA        WI        WV        WY        YT        ZZ \n",
       " 19736146   5911445   1181879   3554048       162    823468 "
      ]
     },
     "metadata": {},
     "output_type": "display_data"
    }
   ],
   "source": [
    "# categorized sum of donations by states\n",
    "stateresult"
   ]
  },
  {
   "cell_type": "code",
   "execution_count": 29,
   "id": "095e62dc-a387-4d9a-a330-9e438af0d048",
   "metadata": {},
   "outputs": [
    {
     "data": {
      "text/plain": [
       "[1] \"CAPE CORAL\"   \"SCOTTSVILLE\"  \"HARTSDALE\"    \"WASHINGTON\"   \"GRAND RAPIDS\"\n",
       "[6] \"KISSIMMEE\"   "
      ]
     },
     "metadata": {},
     "output_type": "display_data"
    }
   ],
   "source": [
    "head(myDF$CITY)"
   ]
  },
  {
   "cell_type": "code",
   "execution_count": 30,
   "id": "2a14a47c-db32-47e2-bad8-b6612b2cffe5",
   "metadata": {},
   "outputs": [
    {
     "data": {
      "text/plain": [
       "[1] \"FL\" \"NY\" \"NY\" \"DC\" \"MI\" \"FL\""
      ]
     },
     "metadata": {},
     "output_type": "display_data"
    }
   ],
   "source": [
    "head(myDF$STATE)"
   ]
  },
  {
   "cell_type": "code",
   "execution_count": 31,
   "id": "822501fc-9c02-4e06-a22f-02b4aae1c302",
   "metadata": {},
   "outputs": [],
   "source": [
    "# paste() will pair up two parameters seperated by a regex (=sep)\n",
    "myDF$citystatepair <- paste(myDF$CITY, myDF$STATE, sep=\", \")"
   ]
  },
  {
   "cell_type": "code",
   "execution_count": 32,
   "id": "efaff6c3-e79a-49d8-a2fb-c131f3d3c1be",
   "metadata": {},
   "outputs": [],
   "source": [
    "cityDonations <- tapply(myDF$TRANSACTION_AMT, myDF$citystatepair, sum)"
   ]
  },
  {
   "cell_type": "code",
   "execution_count": 39,
   "id": "419da5a4-3e27-48d4-af53-a63c70fd8747",
   "metadata": {},
   "outputs": [
    {
     "data": {
      "text/plain": [
       "     NEW YORK, NY SAN FRANCISCO, CA    WASHINGTON, DC   LOS ANGELES, CA \n",
       "        331576505          38701698          37152618          14141160 \n",
       "      HOUSTON, TX        DALLAS, TX       CHICAGO, IL        BOSTON, MA \n",
       "         12463126          11642460          11032607           8287423 \n",
       "      ATLANTA, GA       SEATTLE, WA   SAN ANTONIO, TX     LAS VEGAS, NV \n",
       "          7141597           7115650           6467233           5699480 \n",
       "       DENVER, CO        AUSTIN, TX      BROOKLYN, NY     ARLINGTON, VA \n",
       "          5643729           5555237           5416132           5217976 \n",
       "  BALA CYNWYD, PA     PALO ALTO, CA  PHILADELPHIA, PA     GREENWICH, CT \n",
       "          5143506           4975339           4357885           3942437 \n",
       "  LITTLE ROCK, AR     SAN DIEGO, CA     LOS ALTOS, CA    ALEXANDRIA, VA \n",
       "          3721642           3517005           3490996           3338608 \n",
       "      OAKLAND, CA    PALM BEACH, FL    CINCINNATI, OH      PORTLAND, OR \n",
       "          3230719           3211946           2895853           2862945 \n",
       "       CARMEL, IN BEVERLY HILLS, CA   MINNEAPOLIS, MN     CAMBRIDGE, MA \n",
       "          2843662           2763257           2761958           2694791 \n",
       "     BETHESDA, MD       JACKSON, WY     NASHVILLE, TN     CHARLOTTE, NC \n",
       "          2612865           2610553           2583677           2523093 \n",
       "   FORT WORTH, TX       PHOENIX, AZ      BERKELEY, CA  SANTA MONICA, CA \n",
       "          2488459           2297725           2288182           2287404 \n",
       "       IRVINE, CA        MCLEAN, VA         MIAMI, FL   LAKE FOREST, IL \n",
       "          2175788           2154123           2125293           2120977 \n",
       "       TUCSON, AZ         TULSA, OK   CHEVY CHASE, MD        NAPLES, FL \n",
       "          2054146           2047723           2007787           1964594 \n",
       "   BOCA RATON, FL   MIAMI BEACH, FL       RALEIGH, NC    PITTSBURGH, PA \n",
       "          1945184           1924939           1910708           1881499 \n",
       "  SAINT LOUIS, MO       WAYLAND, MA    SCOTTSDALE, AZ \n",
       "          1844941           1811590           1765249 "
      ]
     },
     "metadata": {},
     "output_type": "display_data"
    }
   ],
   "source": [
    "head(sort(cityDonations, decreasing=TRUE), n=55)"
   ]
  },
  {
   "cell_type": "code",
   "execution_count": 40,
   "id": "d7e29fb4-a35d-474a-814e-ea86155e7f63",
   "metadata": {},
   "outputs": [
    {
     "data": {
      "text/plain": [
       "         ARLINGTON, DC             SALYER, CA       W. HOLLYWOOD, CA \n",
       "                  -475                   -489                   -491 \n",
       "     BELGRADE LAKE, ME         CALLISTOGA, CA      LAKE HAMILTON, FL \n",
       "                  -500                   -500                   -500 \n",
       "     LINCOLN CITY,, OR         LITTLSTOWN, PA NORTH READING,  MA, MA \n",
       "                  -500                   -500                   -500 \n",
       "            OBRIEN, OR             REGINA, ZZ                VAB, VA \n",
       "                  -500                   -500                   -500 \n",
       "              YORK, MD           CLERMONT, GA        RIDGE MANOR, FL \n",
       "                  -500                   -549                   -563 \n",
       "            ALPINE, AL                GPP, MI           YORKTOWN, NY \n",
       "                  -646                   -700                   -706 \n",
       "           HARFORD, PA           RICHLAND, IN          BLUEWATER, NM \n",
       "                  -743                   -845                   -869 \n",
       "     YORKTOWN HGTS, NY PRAIRIE VILLAGE, K, KS          BIRCHWOOD, TN \n",
       "                  -910                   -945                   -955 \n",
       "MERIDIAN CHARTER T, MI             ARMADA, MI            FORDYCE, AR \n",
       "                  -964                   -969                   -980 \n",
       "       NEW  CASTLE, DE              CERES, NY                 OSLO,  \n",
       "                  -990                   -995                  -1000 \n",
       "            PANAMA, FL           SCOTTOWN, OH      W TOLUCA LAKE, CA \n",
       "                 -1000                  -1000                  -1000 \n",
       "      SAINT ALBANS, MO      MOUNTAIN VIEW, HI             EXETER, PA \n",
       "                 -1128                  -1224                  -1357 \n",
       "           EASTERO, FL               COOL, CA             CORTEX, FL \n",
       "                 -1500                  -1681                  -1800 \n",
       "       SUMPTER TWP, MI       FREEMANSBURG, PA           WELLBORN, FL \n",
       "                 -1850                  -2003                  -2056 \n",
       "           CAMERON, TX          WILMINTON, NC             GORDON, TX \n",
       "                 -2157                  -2300                  -2338 \n",
       "       LOOKOUT MTN, GA         E. AMHERST, NY               BLVD, OR \n",
       "                 -2373                  -2700                  -2800 \n",
       "        BROOKVILLE, KS             DARIEN, NY        GARDEN CITY, NJ \n",
       "                 -2800                  -2800                  -2800 \n",
       "            WILSON, AR      PLEASANT HILL, TN              HOXIE, KS \n",
       "                 -2800                  -4295                  -8150 \n",
       "            HEFLIN, AL \n",
       "                 -9983 "
      ]
     },
     "metadata": {},
     "output_type": "display_data"
    }
   ],
   "source": [
    "tail(sort(cityDonations, decreasing=TRUE), n=55)"
   ]
  },
  {
   "cell_type": "markdown",
   "id": "47c6229f-35f7-400c-8366-c442baa5cf47",
   "metadata": {},
   "source": [
    "a) Find the sum of the total donations contributed in each state.\n",
    "\n",
    "b) Create a new column that pastes together the city and state.\n",
    "\n",
    "c) Find the total donation amount for each city/state location. In the output do you notice anything suspicious in the result? How do you think that occured?\n",
    " Misspelling city names and missing cities are causing some problems."
   ]
  },
  {
   "cell_type": "markdown",
   "id": "da22f29c-d245-4d2b-9fc1-ca14cb6087d9",
   "metadata": {},
   "source": [
    "## Question 4"
   ]
  },
  {
   "cell_type": "code",
   "execution_count": 43,
   "id": "8cffc767-d1c8-4d64-b7dc-f0d2ee8a80d1",
   "metadata": {},
   "outputs": [
    {
     "data": {
      "text/plain": [
       " [1] \"SOLOMON, VICTOR\"            \"MYERS, ELIZABETH\"          \n",
       " [3] \"HASKINS, GEORGE\"            \"KOLBE, NINA\"               \n",
       " [5] \"ESSENBERG, PENNY\"           \"GIEBEL, BETTY\"             \n",
       " [7] \"GRISMORE, STEVE\"            \"POCIECHA-PALM, CAROL\"      \n",
       " [9] \"DICE, KEVIN\"                \"KULSTAD, ERIK\"             \n",
       "[11] \"SMELLEY, KAY MS.\"           \"WELLMAN, NANCY\"            \n",
       "[13] \"WARD, KATHLEEN A. MRS.\"     \"GIBLIN, KATHLEEN\"          \n",
       "[15] \"KELLEY, PATRICK RUSTON MR.\" \"WILSON, RICHARD J\"         \n",
       "[17] \"DRUMMOND, F FORD MR.\"       \"KROKEN, DUANE\"             \n",
       "[19] \"BIRD, KENNETH\"              \"FALCHUK, EVAN\"             \n",
       "[21] \"MESELE, SAMSON\"             \"HAWKINS, FRANK\"            \n",
       "[23] \"KNOX, RICHARD G. MR.\"       \"MOORE, JOAN\"               \n",
       "[25] \"MCNULTY, KELLY\"             \"HUDSON, PEGGY M\"           \n",
       "[27] \"ASMUS, GINGER\"              \"ELLINGSEN, PAUL\"           \n",
       "[29] \"BRENEMAN, JAY\"              \"LEVEN, SEYMOUR\"            \n",
       "[31] \"LUTZ, CHRISTOPHER\"          \"MILLER, VALERIE\"           \n",
       "[33] \"JEANRENAUD, BARBARA\"        \"REILLY, JOE\"               \n",
       "[35] \"TALBOTT, JOHN\"              \"FINK, MICHAEL\"             \n",
       "[37] \"LULOW, ROBERT\"              \"HORNSBY, RICHARD\"          \n",
       "[39] \"MORROW, CLARENCE\"           \"LOVE, WILLIE\"              \n",
       "[41] \"FLOREA, IOAN\"               \"PATTERSON, SASHA\"          \n",
       "[43] \"VOLANTE, MONICA\"            \"WYSCAVER, NIKKI\"           \n",
       "[45] \"PIRONKOVA IRWIN, MARIA\"     \"HOLMES, SANDY\"             \n",
       "[47] \"NELSON, BONNIE A\"           \"CHACE, DONALD\"             \n",
       "[49] \"MARTIN, DON S\"              \"EMMETT, CONSTANCE\"         \n",
       "[51] \"REIMER, COURTNEY\"           \"CHRISTENSON, VERGIL\"       \n",
       "[53] \"FISCUS, KEITH E. MR.\"       \"DEEENEY, WILLIAM\"          \n",
       "[55] \"AYERS-RIGSBY, ISABELLE\"    "
      ]
     },
     "metadata": {},
     "output_type": "display_data"
    }
   ],
   "source": [
    "# comma seperated names\n",
    "head(myDF$NAME, n=55)"
   ]
  },
  {
   "cell_type": "code",
   "execution_count": 42,
   "id": "949fb9fe-15b5-45e4-a40f-fcab86e6cfc3",
   "metadata": {},
   "outputs": [
    {
     "data": {
      "text/plain": [
       "[1] \"character\""
      ]
     },
     "metadata": {},
     "output_type": "display_data"
    }
   ],
   "source": [
    "class(myDF$NAME)"
   ]
  },
  {
   "cell_type": "code",
   "execution_count": 46,
   "id": "9354f43b-1fb1-492d-adfd-1ca3e9cfb343",
   "metadata": {},
   "outputs": [
    {
     "data": {
      "text/plain": [
       "[1] 2"
      ]
     },
     "metadata": {},
     "output_type": "display_data"
    }
   ],
   "source": [
    "sum(grepl(\", DON\", head(myDF$NAME, n=55)))"
   ]
  },
  {
   "cell_type": "code",
   "execution_count": 51,
   "id": "f26126c5-5ad3-4313-8d19-b5e406bd3e78",
   "metadata": {},
   "outputs": [
    {
     "data": {
      "text/plain": [
       "[1] 347"
      ]
     },
     "metadata": {},
     "output_type": "display_data"
    }
   ],
   "source": [
    "sum(grepl(\"ISABELLE\", myDF$NAME))"
   ]
  },
  {
   "cell_type": "code",
   "execution_count": 52,
   "id": "5f5c22a8-ce8b-493a-a6e1-96cf0c5377f4",
   "metadata": {},
   "outputs": [
    {
     "data": {
      "text/plain": [
       "[1] 41181"
      ]
     },
     "metadata": {},
     "output_type": "display_data"
    }
   ],
   "source": [
    "sum(myDF$TRANSACTION_AMT[grepl(\"ISABELLE\", myDF$NAME)])"
   ]
  },
  {
   "cell_type": "code",
   "execution_count": 54,
   "id": "cd3b108c-f2af-4f7b-bec9-abe13f2d13ec",
   "metadata": {},
   "outputs": [
    {
     "data": {
      "text/plain": [
       "[1] 7753892"
      ]
     },
     "metadata": {},
     "output_type": "display_data"
    }
   ],
   "source": [
    "sum(myDF$TRANSACTION_AMT[grepl(\"MARY\", myDF$NAME)])"
   ]
  },
  {
   "cell_type": "markdown",
   "id": "0d552245-b4d6-474a-9cc9-fa7b8e674d55",
   "metadata": {},
   "source": [
    "a) Find the type of data that is in the NAME columm\n",
    "\n",
    "b) Split up the names in the NAME column, to extract the first names of the donors. (This will not be perfect, but it is our first attempt.)\n",
    "\n",
    "c) How much money is donated (altogether) by people named Mary?\n",
    " $7753892"
   ]
  },
  {
   "cell_type": "markdown",
   "id": "88c9cdac-3e92-498f-83fa-e089bfc44ac8",
   "metadata": {},
   "source": [
    "## Question 5"
   ]
  },
  {
   "cell_type": "code",
   "execution_count": null,
   "id": "d370d7c9-06db-42b9-b75f-240481a5c491",
   "metadata": {},
   "outputs": [],
   "source": [
    "# code here"
   ]
  },
  {
   "cell_type": "code",
   "execution_count": 55,
   "id": "e2736118-6e82-4e34-88ed-5ee3433895e3",
   "metadata": {},
   "outputs": [
    {
     "data": {
      "text/plain": [
       " [1] \"\" \"\" \"\" \"\" \"\" \"\" \"\" \"\" \"\" \"\" \"\" \"\" \"\" \"\" \"\" \"\" \"\" \"\" \"\" \"\" \"\" \"\" \"\" \"\" \"\"\n",
       "[26] \"\" \"\" \"\" \"\" \"\" \"\" \"\" \"\" \"\" \"\" \"\" \"\" \"\" \"\" \"\" \"\" \"\" \"\" \"\" \"\" \"\" \"\" \"\" \"\" \"\""
      ]
     },
     "metadata": {},
     "output_type": "display_data"
    }
   ],
   "source": [
    "head(sort(myDF$EMPLOYER), n=50)"
   ]
  },
  {
   "cell_type": "code",
   "execution_count": 56,
   "id": "cf1401a5-bfc1-4968-bce5-88193cad1fcf",
   "metadata": {},
   "outputs": [
    {
     "data": {
      "text/plain": [
       " [1] \"`UCLA\"                                 \n",
       " [2] \"`UCLA\"                                 \n",
       " [3] \"`UCLA\"                                 \n",
       " [4] \"`UCLA\"                                 \n",
       " [5] \"`UCLA\"                                 \n",
       " [6] \"`UCLA\"                                 \n",
       " [7] \"`UCLA\"                                 \n",
       " [8] \"`UCLA\"                                 \n",
       " [9] \"`UCLA\"                                 \n",
       "[10] \"`UCLA\"                                 \n",
       "[11] \"`UCLA\"                                 \n",
       "[12] \"`UCLA\"                                 \n",
       "[13] \"`UCLA\"                                 \n",
       "[14] \"`UCLA\"                                 \n",
       "[15] \"`UCLA\"                                 \n",
       "[16] \"`UCLA\"                                 \n",
       "[17] \"`UCLA\"                                 \n",
       "[18] \"`UCLA\"                                 \n",
       "[19] \"`UCLA\"                                 \n",
       "[20] \"`UCLA\"                                 \n",
       "[21] \"`UCLA\"                                 \n",
       "[22] \"`UCLA\"                                 \n",
       "[23] \"`UCLA\"                                 \n",
       "[24] \"`UCLA\"                                 \n",
       "[25] \"`UCLA\"                                 \n",
       "[26] \"`UCLA\"                                 \n",
       "[27] \"`UCLA\"                                 \n",
       "[28] \"`UCLA\"                                 \n",
       "[29] \"`UCLA\"                                 \n",
       "[30] \"`UCLA\"                                 \n",
       "[31] \"`UCLA\"                                 \n",
       "[32] \"`UCLA\"                                 \n",
       "[33] \"`UCLA\"                                 \n",
       "[34] \"`UCLA\"                                 \n",
       "[35] \"`UCLA\"                                 \n",
       "[36] \"`UCLA\"                                 \n",
       "[37] \"`UCLA\"                                 \n",
       "[38] \"`UCLA\"                                 \n",
       "[39] \"`UCLA\"                                 \n",
       "[40] \"{{EMPLOYER,DEFAULTTO\"                  \n",
       "[41] \"{{EMPLOYER,DEFAULTTO\"                  \n",
       "[42] \"{{EMPLOYER,DEFAULTTO\"                  \n",
       "[43] \"{{EMPLOYER,DEFAULTTO\"                  \n",
       "[44] \"{{EMPLOYER,DEFAULTTO\"                  \n",
       "[45] \"{{EMPLOYER,DEFAULTTO\"                  \n",
       "[46] \"{{EMPLOYER,DEFAULTTO=}}\"               \n",
       "[47] \"{{EMPLOYER,DEFAULTTO=}}\"               \n",
       "[48] \"{{EMPLOYER,DEFAULTTO=}}?MIDQS=54220524\"\n",
       "[49] \"{{EMPLOYER,DEFAULTTO=}}?MIDQS=54220524\"\n",
       "[50] \"{{EMPLOYER,DEFAULTTO=}}?MIDQS=54220524\""
      ]
     },
     "metadata": {},
     "output_type": "display_data"
    }
   ],
   "source": [
    "tail(sort(myDF$EMPLOYER), n=50)"
   ]
  },
  {
   "cell_type": "code",
   "execution_count": 59,
   "id": "056993d8-1acc-471e-9d66-1702cfb71969",
   "metadata": {},
   "outputs": [
    {
     "data": {
      "text/plain": [
       "[1] 79250204"
      ]
     },
     "metadata": {},
     "output_type": "display_data"
    }
   ],
   "source": [
    "sum(myDF$TRANSACTION_AMT[myDF$EMPLOYER == \"NOT EMPLOYED\"], na.rm=TRUE)"
   ]
  },
  {
   "cell_type": "code",
   "execution_count": 64,
   "id": "52eab7bf-780c-4578-a1e8-219ca3ab3110",
   "metadata": {},
   "outputs": [],
   "source": [
    "employed <- sum(myDF$TRANSACTION_AMT[myDF$EMPLOYER == \"EMPLOYED\"], na.rm=TRUE)"
   ]
  },
  {
   "cell_type": "code",
   "execution_count": 72,
   "id": "edca88b8-8503-400b-9643-382c8f824c15",
   "metadata": {},
   "outputs": [],
   "source": [
    "notemployed <- sum(myDF$TRANSACTION_AMT[(myDF$EMPLOYER != \"NOT EMPLOYED\") & (myDF$EMPLOYER != \"NONE\")], na.rm=TRUE)"
   ]
  },
  {
   "cell_type": "code",
   "execution_count": 68,
   "id": "291f3ede-fd26-405d-a6d5-711a5841a227",
   "metadata": {},
   "outputs": [],
   "source": [
    "tempV <- c(notemployed, employed)"
   ]
  },
  {
   "cell_type": "code",
   "execution_count": 73,
   "id": "89584f5a-4271-4856-bd24-92c2789cdd45",
   "metadata": {},
   "outputs": [
    {
     "data": {
      "text/plain": [
       "NOT EMPLOYED     EMPLOYED \n",
       "   959563350        12418 "
      ]
     },
     "metadata": {},
     "output_type": "display_data"
    }
   ],
   "source": [
    "tempV"
   ]
  },
  {
   "cell_type": "code",
   "execution_count": 70,
   "id": "6bc36097-9633-4e2f-82eb-770bf6d09c62",
   "metadata": {},
   "outputs": [],
   "source": [
    "names(tempV) <- c(\"NOT EMPLOYED\", \"EMPLOYED\")"
   ]
  },
  {
   "cell_type": "code",
   "execution_count": 71,
   "id": "29dffc0b-2496-429a-b62d-1c37b9a8ea4b",
   "metadata": {},
   "outputs": [
    {
     "data": {
      "image/png": "[encoded data removed]",
      "text/plain": [
       "plot without title"
      ]
     },
     "metadata": {
      "image/png": {
       "height": 420,
       "width": 420
      }
     },
     "output_type": "display_data"
    }
   ],
   "source": [
    "barplot(tempV)"
   ]
  },
  {
   "cell_type": "code",
   "execution_count": 77,
   "id": "35b0d2d8-66a4-4924-9287-9ef1f870179c",
   "metadata": {},
   "outputs": [
    {
     "data": {
      "text/plain": [
       "                FOUNDER                 RETIRED            NOT EMPLOYED \n",
       "              279442327                98774206                84855951 \n",
       "                                       ATTORNEY                     CEO \n",
       "               77364020                31326953                25055647 \n",
       " PRESIDENTIAL CANDIDATE               PRESIDENT               EXECUTIVE \n",
       "               24824136                20209278                15546942 \n",
       "              HOMEMAKER               PHYSICIAN                   OWNER \n",
       "               14058507                13817398                12575604 \n",
       "               CHAIRMAN              CONSULTANT                INVESTOR \n",
       "               11826480                 9058121                 8729393 \n",
       "      MANAGING DIRECTOR                 PARTNER                    NONE \n",
       "                8011054                 7260455                 6351143 \n",
       "            REAL ESTATE                  LAWYER                ENGINEER \n",
       "                6265870                 6171634                 5320847 \n",
       "              PROFESSOR          CHAIRMAN & CEO                 MANAGER \n",
       "                4808341                 4797502                 4621189 \n",
       "               DIRECTOR       SOFTWARE ENGINEER          PHILANTHROPIST \n",
       "                4322151                 3588697                 3127701 \n",
       "          VICE CHAIRMAN                 FINANCE                 TEACHER \n",
       "                2948823                 2947032                 2885193 \n",
       "                 WRITER                  FARMER          VICE PRESIDENT \n",
       "                2757719                 2746316                 2553380 \n",
       "         BUSINESS OWNER           SELF-EMPLOYED                   SALES \n",
       "                2308849                 2232023                 2166700 \n",
       "           ENTREPRENEUR         PRESIDENT & CEO               PRINCIPAL \n",
       "                2091385                 2064947                 2017072 \n",
       "                REALTOR CHIEF EXECUTIVE OFFICER      INVESTMENT MANAGER \n",
       "                1918229                 1843886                 1763377 \n",
       "                  CHAIR                  BANKER             INVESTMENTS \n",
       "                1740074                 1734542                 1678864 \n",
       "     REAL ESTATE BROKER                  ARTIST   REAL ESTATE DEVELOPER \n",
       "                1667613                 1632775                 1448810 \n",
       "          SELF EMPLOYED                  AUTHOR           FOUNDER & CEO \n",
       "                1275659                 1213441                 1207549 \n",
       "             CONTRACTOR        MANAGING PARTNER           PRESIDENT/CEO \n",
       "                1169420                 1166030                 1155930 \n",
       "                 TRADER \n",
       "                1141941 "
      ]
     },
     "metadata": {},
     "output_type": "display_data"
    }
   ],
   "source": [
    "head(sort(tapply(myDF$TRANSACTION_AMT, myDF$OCCUPATION, sum), decreasing=TRUE), n=55)"
   ]
  },
  {
   "cell_type": "code",
   "execution_count": 105,
   "id": "007155e7-a360-4492-9460-d2d4b4d68461",
   "metadata": {},
   "outputs": [
    {
     "data": {
      "text/plain": [
       "[1] \"MOORE, JOAN\"            \"SMITH, NATHALIE E. MS.\" \"MOONEY, ROBERT\"        \n",
       "[4] \"GOTTESDIENER, ROBYN\"    \"O'NEIL, ROBERTA\"        \"ANDERSON, CAROL H. MS.\""
      ]
     },
     "metadata": {},
     "output_type": "display_data"
    }
   ],
   "source": [
    "head(newDF$STATE[grepl(\"\", newDF$OCCUPATION)])"
   ]
  },
  {
   "cell_type": "code",
   "execution_count": 117,
   "id": "0aa6a3ad-1bfc-457c-9cfb-ba2a55e5a034",
   "metadata": {},
   "outputs": [
    {
     "data": {
      "image/png": "[encoded data removed]",
      "text/plain": [
       "plot without title"
      ]
     },
     "metadata": {
      "image/png": {
       "height": 420,
       "width": 420
      }
     },
     "output_type": "display_data"
    }
   ],
   "source": [
    "barplot(sort(tapply(newDF$TRANSACTION_AMT[grepl(\"FOUNDER | PRESIDENT | CEO | CHAIRMAN\", newDF$OCCUPATION)]\n",
    "                   , newDF$STATE[grepl(\"FOUNDER | PRESIDENT | CEO | CHAIRMAN\", newDF$OCCUPATION)]\n",
    "                   , sum\n",
    "                   )\n",
    "            )\n",
    "       )"
   ]
  },
  {
   "cell_type": "markdown",
   "id": "9fbf00fb-2418-460f-ae94-2a32b0c28952",
   "metadata": {},
   "source": [
    "a) Using a barplot or dotchart, show the total amount of donations made by EMPLOYED vs NOT EMPLOYED individuals\n",
    "\n",
    "b) What is the category of occupation that donates the most money?\n",
    "    Founders of company (obvious right?)\n",
    "\n",
    "c) Plot something that you find interesting about the employment and/or occupation columns\n",
    "    A lot of poor and socially high ranked are in ZZ, WY, DE, NH, AK while rich and socially high ranked are in IL, CA. Makes sense because there are a lot of big tech companies in CA. "
   ]
  },
  {
   "cell_type": "markdown",
   "id": "f76442d6-d02e-4f26-b9d6-c3183e1d6929",
   "metadata": {},
   "source": [
    "## Pledge\n",
    "\n",
    "By submitting this work I hereby pledge that this is my own, personal work. I've acknowledged in the designated place at the top of this file all sources that I used to complete said work, including but not limited to: online resources, books, and electronic communications. I've noted all collaboration with fellow students and/or TA's. I did not copy or plagiarize another's work.\n",
    "\n",
    "> As a Boilermaker pursuing academic excellence, I pledge to be honest and true in all that I do. Accountable together – We are Purdue."
   ]
  }
 ],
 "metadata": {
  "kernelspec": {
   "display_name": "f2022-s2023-r",
   "language": "R",
   "name": "f2022-s2023-r"
  },
  "language_info": {
   "codemirror_mode": "r",
   "file_extension": ".r",
   "mimetype": "text/x-r-source",
   "name": "R",
   "pygments_lexer": "r",
   "version": "4.2.1"
  }
 },
 "nbformat": 4,
 "nbformat_minor": 5
}
