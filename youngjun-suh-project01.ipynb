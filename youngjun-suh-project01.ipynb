{
 "cells": [
  {
   "cell_type": "markdown",
   "id": "be02a957-7133-4d02-818e-fedeb3cecb05",
   "metadata": {},
   "source": [
    "# Project 1 -- Youngjun Suh"
   ]
  },
  {
   "cell_type": "markdown",
   "id": "a1228853-dd19-4ab2-89e0-0394d7d72de3",
   "metadata": {},
   "source": [
    "**TA Help:** John Smith, Alice Jones\n",
    "\n",
    "- Help with figuring out how to write a function.\n",
    "    \n",
    "**Collaboration:** Friend1, Friend2\n",
    "    \n",
    "- Helped figuring out how to load the dataset.\n",
    "- Helped debug error with my plot."
   ]
  },
  {
   "cell_type": "markdown",
   "id": "6180e742-8e39-4698-98ff-5b00c8cf8ea0",
   "metadata": {},
   "source": [
    "## Question 1"
   ]
  },
  {
   "cell_type": "code",
   "execution_count": null,
   "id": "49445606-d363-41b4-b479-e319a9a84c01",
   "metadata": {},
   "outputs": [],
   "source": [
    "# 256 cores and 131072GB memory for anvil login and 134144 cores and 37912576GB memory for anvil sub-clusters\n",
    "# collectively 134400 cores and 38043648GB memory in anvil"
   ]
  },
  {
   "cell_type": "markdown",
   "id": "b456e57c-4a12-464b-999a-ef2df5af80c1",
   "metadata": {},
   "source": [
    "reference here: https://www.rcac.purdue.edu/compute/anvil"
   ]
  },
  {
   "cell_type": "markdown",
   "id": "fc601975-35ed-4680-a4e1-0273ee3cc047",
   "metadata": {},
   "source": [
    "## Question 2"
   ]
  },
  {
   "cell_type": "code",
   "execution_count": 1,
   "id": "a16336a1-1ef0-41e8-bc7c-49387db27497",
   "metadata": {},
   "outputs": [
    {
     "name": "stdout",
     "output_type": "stream",
     "text": [
      "[1] \"a240.anvil.rcac.purdue.edu\"\n"
     ]
    }
   ],
   "source": [
    "%%R\n",
    "\n",
    "system(\"hostname\", intern=TRUE)"
   ]
  },
  {
   "cell_type": "markdown",
   "id": "7f52eed4-76cb-4b98-beeb-1fe687da70e7",
   "metadata": {
    "tags": []
   },
   "source": [
    "code will not run if you have # comment notation!!!"
   ]
  },
  {
   "cell_type": "markdown",
   "id": "b6399306-2526-465f-a3fe-24ac976734a9",
   "metadata": {
    "tags": []
   },
   "source": [
    "f2022-s2023 kernel requires extra %% [insert programming lang] to use other lang.\n",
    "But, f2022-s2023-r is native to R. No need for extra line of code but it only works for R."
   ]
  },
  {
   "cell_type": "markdown",
   "id": "8e586edd-ff26-4ce2-8f6b-2424b26f2929",
   "metadata": {},
   "source": [
    "## Question 3"
   ]
  },
  {
   "cell_type": "code",
   "execution_count": 2,
   "id": "bbe0f40d-9655-4653-9ca8-886bdb61cb91",
   "metadata": {},
   "outputs": [
    {
     "name": "stdout",
     "output_type": "stream",
     "text": [
      "My list is: [1, 2, 3]\n"
     ]
    }
   ],
   "source": [
    "my_list = [1, 2, 3]\n",
    "print(f'My list is: {my_list}')"
   ]
  },
  {
   "cell_type": "code",
   "execution_count": 3,
   "id": "f9475638-d8d7-402d-97f6-462ec5103682",
   "metadata": {},
   "outputs": [],
   "source": [
    "%sql sqlite:////anvil/projects/tdm/data/movies_and_tv/imdb.db"
   ]
  },
  {
   "cell_type": "code",
   "execution_count": 4,
   "id": "5168e40f-c91c-417a-a285-51a68b60f24b",
   "metadata": {},
   "outputs": [
    {
     "name": "stdout",
     "output_type": "stream",
     "text": [
      " * sqlite:////anvil/projects/tdm/data/movies_and_tv/imdb.db\n",
      "Done.\n"
     ]
    },
    {
     "data": {
      "text/html": [
       "<table>\n",
       "    <tr>\n",
       "        <th>title_id</th>\n",
       "        <th>type</th>\n",
       "        <th>primary_title</th>\n",
       "        <th>original_title</th>\n",
       "        <th>is_adult</th>\n",
       "        <th>premiered</th>\n",
       "        <th>ended</th>\n",
       "        <th>runtime_minutes</th>\n",
       "        <th>genres</th>\n",
       "    </tr>\n",
       "    <tr>\n",
       "        <td>tt0000001</td>\n",
       "        <td>short</td>\n",
       "        <td>Carmencita</td>\n",
       "        <td>Carmencita</td>\n",
       "        <td>0</td>\n",
       "        <td>1894</td>\n",
       "        <td>None</td>\n",
       "        <td>1</td>\n",
       "        <td>Documentary,Short</td>\n",
       "    </tr>\n",
       "    <tr>\n",
       "        <td>tt0000002</td>\n",
       "        <td>short</td>\n",
       "        <td>Le clown et ses chiens</td>\n",
       "        <td>Le clown et ses chiens</td>\n",
       "        <td>0</td>\n",
       "        <td>1892</td>\n",
       "        <td>None</td>\n",
       "        <td>5</td>\n",
       "        <td>Animation,Short</td>\n",
       "    </tr>\n",
       "    <tr>\n",
       "        <td>tt0000003</td>\n",
       "        <td>short</td>\n",
       "        <td>Pauvre Pierrot</td>\n",
       "        <td>Pauvre Pierrot</td>\n",
       "        <td>0</td>\n",
       "        <td>1892</td>\n",
       "        <td>None</td>\n",
       "        <td>4</td>\n",
       "        <td>Animation,Comedy,Romance</td>\n",
       "    </tr>\n",
       "    <tr>\n",
       "        <td>tt0000004</td>\n",
       "        <td>short</td>\n",
       "        <td>Un bon bock</td>\n",
       "        <td>Un bon bock</td>\n",
       "        <td>0</td>\n",
       "        <td>1892</td>\n",
       "        <td>None</td>\n",
       "        <td>12</td>\n",
       "        <td>Animation,Short</td>\n",
       "    </tr>\n",
       "    <tr>\n",
       "        <td>tt0000005</td>\n",
       "        <td>short</td>\n",
       "        <td>Blacksmith Scene</td>\n",
       "        <td>Blacksmith Scene</td>\n",
       "        <td>0</td>\n",
       "        <td>1893</td>\n",
       "        <td>None</td>\n",
       "        <td>1</td>\n",
       "        <td>Comedy,Short</td>\n",
       "    </tr>\n",
       "</table>"
      ],
      "text/plain": [
       "[('tt0000001', 'short', 'Carmencita', 'Carmencita', 0, 1894, None, 1, 'Documentary,Short'),\n",
       " ('tt0000002', 'short', 'Le clown et ses chiens', 'Le clown et ses chiens', 0, 1892, None, 5, 'Animation,Short'),\n",
       " ('tt0000003', 'short', 'Pauvre Pierrot', 'Pauvre Pierrot', 0, 1892, None, 4, 'Animation,Comedy,Romance'),\n",
       " ('tt0000004', 'short', 'Un bon bock', 'Un bon bock', 0, 1892, None, 12, 'Animation,Short'),\n",
       " ('tt0000005', 'short', 'Blacksmith Scene', 'Blacksmith Scene', 0, 1893, None, 1, 'Comedy,Short')]"
      ]
     },
     "execution_count": 4,
     "metadata": {},
     "output_type": "execute_result"
    }
   ],
   "source": [
    "%%sql\n",
    "\n",
    "SELECT * FROM titles LIMIT 5;"
   ]
  },
  {
   "cell_type": "code",
   "execution_count": 5,
   "id": "369d407b-49b8-449a-80e4-e40f8bf0eda4",
   "metadata": {},
   "outputs": [
    {
     "name": "stdout",
     "output_type": "stream",
     "text": [
      "Miles: 3263678656 \n",
      "Kilometers:5.25238e+09\n"
     ]
    }
   ],
   "source": [
    "%%bash\n",
    "\n",
    "awk -F, '{miles=miles+$19}END{print \"Miles: \" miles, \"\\nKilometers:\" miles*1.609344}' /anvil/projects/tdm/data/flights/subset/1991.csv"
   ]
  },
  {
   "cell_type": "markdown",
   "id": "47c6229f-35f7-400c-8366-c442baa5cf47",
   "metadata": {},
   "source": [
    "Markdown notes and sentences and analysis written here."
   ]
  },
  {
   "cell_type": "markdown",
   "id": "da22f29c-d245-4d2b-9fc1-ca14cb6087d9",
   "metadata": {},
   "source": [
    "## Question 4"
   ]
  },
  {
   "cell_type": "code",
   "execution_count": null,
   "id": "8cffc767-d1c8-4d64-b7dc-f0d2ee8a80d1",
   "metadata": {},
   "outputs": [],
   "source": [
    "# There are 5 code cells and 5 markdown cells by default"
   ]
  },
  {
   "cell_type": "markdown",
   "id": "0d552245-b4d6-474a-9cc9-fa7b8e674d55",
   "metadata": {},
   "source": [
    "reference here:  our project template (which can also be found on Anvil at /anvil/projects/tdm/etc/project_template.ipynb)."
   ]
  },
  {
   "cell_type": "markdown",
   "id": "88c9cdac-3e92-498f-83fa-e089bfc44ac8",
   "metadata": {
    "tags": []
   },
   "source": [
    "## Question 5"
   ]
  },
  {
   "cell_type": "code",
   "execution_count": 1,
   "id": "d370d7c9-06db-42b9-b75f-240481a5c491",
   "metadata": {
    "tags": []
   },
   "outputs": [
    {
     "name": "stdout",
     "output_type": "stream",
     "text": [
      "              Cores     memory(GB)\n",
      "Anvil login:  256       131072\n",
      "Anvil sub-c:  134144    37912576\n"
     ]
    }
   ],
   "source": [
    "print(\"              Cores     memory(GB)\")\n",
    "print(\"Anvil login: \", 8*32, \"     \", 8*32*512)\n",
    "print(\"Anvil sub-c: \", (1000+32+16)*128, \"  \", (1000*256+32*1000+16*512)*128)"
   ]
  },
  {
   "cell_type": "code",
   "execution_count": 3,
   "id": "47992a20-9a57-4cd9-b013-ef1ede020511",
   "metadata": {},
   "outputs": [
    {
     "name": "stdout",
     "output_type": "stream",
     "text": [
      "              Cores     memory(GB)\n",
      "Anvil login:  256       131072 \n",
      "Anvil sub-c:  134144    37912576 \n"
     ]
    }
   ],
   "source": [
    "%%R\n",
    "\n",
    "cat(\"              Cores     memory(GB)\\n\")\n",
    "cat(\"Anvil login: \", 8*32, \"     \", 8*32*512, \"\\n\")\n",
    "cat(\"Anvil sub-c: \", (1000+32+16)*128, \"  \", (1000*256+32*1000+16*512)*128, \"\\n\")\n"
   ]
  },
  {
   "cell_type": "markdown",
   "id": "9fbf00fb-2418-460f-ae94-2a32b0c28952",
   "metadata": {},
   "source": [
    "Markdown notes and sentences and analysis written here."
   ]
  },
  {
   "cell_type": "markdown",
   "id": "a6bea3f9-fbb4-4ad3-bd9c-8410023aadda",
   "metadata": {
    "tags": []
   },
   "source": [
    "## Question 6"
   ]
  },
  {
   "cell_type": "code",
   "execution_count": 16,
   "id": "7118eefb-05c3-4d0b-83b6-2fb210b126e3",
   "metadata": {},
   "outputs": [],
   "source": [
    "%%R\n",
    "\n",
    "dat <- read.csv(\"/anvil/projects/tdm/data/disney/flight_of_passage.csv\")"
   ]
  },
  {
   "cell_type": "code",
   "execution_count": 17,
   "id": "c2a76db3-831c-4f7a-8bd6-74bd52764952",
   "metadata": {},
   "outputs": [
    {
     "name": "stdout",
     "output_type": "stream",
     "text": [
      "        date            datetime SACTMIN SPOSTMIN\n",
      "1 05/26/2017 2017-05-26 09:06:38      NA     -999\n",
      "2 05/26/2017 2017-05-26 09:10:11      47       NA\n",
      "3 05/26/2017 2017-05-26 09:10:12      NA        5\n",
      "4 05/26/2017 2017-05-26 09:17:09      NA       60\n",
      "5 05/26/2017 2017-05-26 09:24:07      NA       60\n",
      "6 05/26/2017 2017-05-26 09:30:10      NA       60\n"
     ]
    }
   ],
   "source": [
    "%%R\n",
    "\n",
    "head(dat)"
   ]
  },
  {
   "cell_type": "code",
   "execution_count": 18,
   "id": "cd205d71-8547-4d35-ac5d-accccde75920",
   "metadata": {},
   "outputs": [],
   "source": [
    "%%R\n",
    "\n",
    "flight_of_passage <- dat"
   ]
  },
  {
   "cell_type": "code",
   "execution_count": 19,
   "id": "e127d073-fa16-4804-9faf-80ccb2a7a4e1",
   "metadata": {},
   "outputs": [],
   "source": [
    "%%R\n",
    "\n",
    "rm(dat)"
   ]
  },
  {
   "cell_type": "markdown",
   "id": "2fefbf58-2a9e-4d8a-9f34-1c5f2a2daefd",
   "metadata": {
    "tags": []
   },
   "source": [
    "## Question 7"
   ]
  },
  {
   "cell_type": "code",
   "execution_count": null,
   "id": "466f77cc-a905-444e-b76c-cdfb52231b15",
   "metadata": {},
   "outputs": [],
   "source": []
  },
  {
   "cell_type": "markdown",
   "id": "f76442d6-d02e-4f26-b9d6-c3183e1d6929",
   "metadata": {},
   "source": [
    "## Pledge\n",
    "\n",
    "By submitting this work I hereby pledge that this is my own, personal work. I've acknowledged in the designated place at the top of this file all sources that I used to complete said work, including but not limited to: online resources, books, and electronic communications. I've noted all collaboration with fellow students and/or TA's. I did not copy or plagiarize another's work.\n",
    "\n",
    "> As a Boilermaker pursuing academic excellence, I pledge to be honest and true in all that I do. Accountable together – We are Purdue."
   ]
  }
 ],
 "metadata": {
  "kernelspec": {
   "display_name": "f2022-s2023",
   "language": "python",
   "name": "f2022-s2023"
  },
  "language_info": {
   "codemirror_mode": {
    "name": "ipython",
    "version": 3
   },
   "file_extension": ".py",
   "mimetype": "text/x-python",
   "name": "python",
   "nbconvert_exporter": "python",
   "pygments_lexer": "ipython3",
   "version": "3.10.5"
  }
 },
 "nbformat": 4,
 "nbformat_minor": 5
}
